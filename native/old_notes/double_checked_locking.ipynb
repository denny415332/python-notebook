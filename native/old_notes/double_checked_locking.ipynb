{
 "cells": [
  {
   "cell_type": "markdown",
   "metadata": {},
   "source": [
    "### 雙重檢查鎖（Double-Checked Locking）"
   ]
  },
  {
   "cell_type": "markdown",
   "metadata": {},
   "source": [
    "📌 說明：\n",
    "\n",
    "第一次檢查：若 _instance 已存在，不加鎖，加快存取速度。\n",
    "\n",
    "第二次檢查：加鎖後再次檢查，確保只有一個執行緒創建實例。\n",
    "\n",
    "效能更佳，避免每次都加鎖帶來的開銷。"
   ]
  },
  {
   "cell_type": "code",
   "execution_count": 1,
   "metadata": {},
   "outputs": [
    {
     "name": "stdout",
     "output_type": "stream",
     "text": [
      "1790096374464\n",
      "1790096374464\n",
      "1790096374464\n",
      "1790096374464\n",
      "1790096374464\n"
     ]
    }
   ],
   "source": [
    "import threading\n",
    "\n",
    "class Singleton:\n",
    "    _instance = None\n",
    "    _lock = threading.Lock()\n",
    "\n",
    "    def __new__(cls):\n",
    "        if cls._instance is None:  # 第一次檢查（無鎖）\n",
    "            with cls._lock:        # 加鎖\n",
    "                if cls._instance is None:  # 第二次檢查（鎖內）\n",
    "                    cls._instance = super().__new__(cls)\n",
    "        return cls._instance\n",
    "\n",
    "# 測試\n",
    "def create_instance():\n",
    "    instance = Singleton()\n",
    "    print(id(instance))\n",
    "\n",
    "threads = [threading.Thread(target=create_instance) for _ in range(5)]\n",
    "for t in threads:\n",
    "    t.start()\n",
    "for t in threads:\n",
    "    t.join()\n"
   ]
  },
  {
   "cell_type": "markdown",
   "metadata": {},
   "source": [
    "⚠️ 風險：\n",
    "\n",
    "在多執行緒環境下，多個執行緒可能同時檢查到 _instance 為 None，然後各自創建不同的物件。\n",
    "這樣會違反 Singleton 模式，產生多個實例。"
   ]
  },
  {
   "cell_type": "code",
   "execution_count": 29,
   "metadata": {},
   "outputs": [
    {
     "name": "stdout",
     "output_type": "stream",
     "text": [
      "17900961293281790096129328\n",
      "\n",
      "1790096129328\n",
      "1790096129328\n",
      "1790096129328\n"
     ]
    }
   ],
   "source": [
    "class SingletonError:\n",
    "    _instance = None\n",
    "\n",
    "    def __new__(cls):\n",
    "        if cls._instance is None:\n",
    "            cls._instance = super().__new__(cls)\n",
    "        return cls._instance\n",
    "\n",
    "\n",
    "def create_instance():\n",
    "    instance = SingletonError()\n",
    "    print(id(instance))\n",
    "\n",
    "\n",
    "threads = [threading.Thread(target=create_instance) for _ in range(5)]\n",
    "for t in threads:\n",
    "    t.start()\n",
    "for t in threads:\n",
    "    t.join()"
   ]
  }
 ],
 "metadata": {
  "kernelspec": {
   "display_name": "Python 3",
   "language": "python",
   "name": "python3"
  },
  "language_info": {
   "codemirror_mode": {
    "name": "ipython",
    "version": 3
   },
   "file_extension": ".py",
   "mimetype": "text/x-python",
   "name": "python",
   "nbconvert_exporter": "python",
   "pygments_lexer": "ipython3",
   "version": "3.10.16"
  }
 },
 "nbformat": 4,
 "nbformat_minor": 2
}
