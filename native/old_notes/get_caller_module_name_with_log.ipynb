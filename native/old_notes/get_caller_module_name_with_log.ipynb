{
 "cells": [
  {
   "cell_type": "code",
   "execution_count": null,
   "metadata": {},
   "outputs": [],
   "source": [
    "import logging\n",
    "import inspect\n",
    "\n",
    "\n",
    "def get_caller_module_name():\n",
    "    frame = inspect.stack()[2]  # [2]為呼叫logger函式的上一層呼叫者\n",
    "    module = inspect.getmodule(frame[0])\n",
    "    if module:\n",
    "        return module.__name__\n",
    "    return \"__unknown__\"\n",
    "\n",
    "\n",
    "# 設定 logger\n",
    "logging.basicConfig(\n",
    "    level=logging.INFO,\n",
    "    format=\"%(asctime)s [%(levelname)s] %(message)s\",\n",
    ")\n",
    "\n",
    "\n",
    "def log_info(msg):\n",
    "    module_name = get_caller_module_name()\n",
    "    logging.info(f\"[{module_name}] {msg}\")\n",
    "\n",
    "\n",
    "# 測試\n",
    "def example_func():\n",
    "    log_info(\"這是一個來自 example_func 的訊息。\")\n",
    "\n",
    "\n",
    "if __name__ == \"__main__\":\n",
    "    example_func()\n"
   ]
  },
  {
   "cell_type": "code",
   "execution_count": null,
   "metadata": {},
   "outputs": [
    {
     "name": "stderr",
     "output_type": "stream",
     "text": [
      "2025-03-12 17:54:38,474 [INFO] [__unknown__] 從 test_function 發出的 log\n"
     ]
    }
   ],
   "source": [
    "import logging\n",
    "import inspect\n",
    "\n",
    "\n",
    "class Logger:\n",
    "    def __init__(self):\n",
    "        logging.basicConfig(\n",
    "            level=logging.INFO, format=\"%(asctime)s [%(levelname)s] %(message)s\"\n",
    "        )\n",
    "\n",
    "    def get_caller_module_name(self):\n",
    "        frame = inspect.stack()[2]  # [2] 表示 info() 的呼叫者\n",
    "        module = inspect.getmodule(frame[0])\n",
    "        return module.__name__ if module else \"__unknown__\"\n",
    "\n",
    "    def info(self, msg):\n",
    "        module_name = self.get_caller_module_name()\n",
    "        logging.info(f\"[{module_name}] {msg}\")\n",
    "\n",
    "\n",
    "# 使用範例\n",
    "logger = Logger()\n",
    "\n",
    "\n",
    "def test_function():\n",
    "    logger.info(\"從 test_function 發出的 log\")\n",
    "\n",
    "\n",
    "if __name__ == \"__main__\":\n",
    "    test_function()\n"
   ]
  }
 ],
 "metadata": {
  "kernelspec": {
   "display_name": "Python 3",
   "language": "python",
   "name": "python3"
  },
  "language_info": {
   "codemirror_mode": {
    "name": "ipython",
    "version": 3
   },
   "file_extension": ".py",
   "mimetype": "text/x-python",
   "name": "python",
   "nbconvert_exporter": "python",
   "pygments_lexer": "ipython3",
   "version": "3.10.16"
  }
 },
 "nbformat": 4,
 "nbformat_minor": 2
}
