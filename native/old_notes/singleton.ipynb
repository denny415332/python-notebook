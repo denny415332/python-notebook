{
 "cells": [
  {
   "cell_type": "code",
   "execution_count": 1,
   "metadata": {},
   "outputs": [
    {
     "name": "stdout",
     "output_type": "stream",
     "text": [
      "True\n"
     ]
    }
   ],
   "source": [
    "class Singleton:\n",
    "    _instance = None  # 私有類別屬性儲存唯一實例\n",
    "\n",
    "    def __new__(cls):\n",
    "        if cls._instance is None:\n",
    "            # cls._instance = super(Singleton, cls).__new__(cls) # python 2 程式碼\n",
    "            cls._instance = super().__new__(cls)  # python 3 程式碼\n",
    "        return cls._instance\n",
    "\n",
    "\n",
    "# 使用 Singleton\n",
    "singleton1 = Singleton()\n",
    "singleton2 = Singleton()\n",
    "\n",
    "print(singleton1 is singleton2)  # 輸出結果：True\n"
   ]
  }
 ],
 "metadata": {
  "kernelspec": {
   "display_name": "Python 3",
   "language": "python",
   "name": "python3"
  },
  "language_info": {
   "codemirror_mode": {
    "name": "ipython",
    "version": 3
   },
   "file_extension": ".py",
   "mimetype": "text/x-python",
   "name": "python",
   "nbconvert_exporter": "python",
   "pygments_lexer": "ipython3",
   "version": "3.10.16"
  }
 },
 "nbformat": 4,
 "nbformat_minor": 2
}
