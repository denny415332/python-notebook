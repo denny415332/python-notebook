{
 "cells": [
  {
   "cell_type": "code",
   "execution_count": 5,
   "metadata": {},
   "outputs": [],
   "source": [
    "import logging\n",
    "import os"
   ]
  },
  {
   "cell_type": "code",
   "execution_count": 7,
   "metadata": {},
   "outputs": [],
   "source": [
    "# 設定 logger\n",
    "logger = logging.getLogger(__name__)\n",
    "logger.setLevel(logging.DEBUG)\n",
    "\n",
    "# 建立一個 FileHandler 並將其加入 logger\n",
    "file_handler = logging.FileHandler(\"example.log\", encoding=\"utf-8\", mode=\"a\")\n",
    "logger.addHandler(file_handler)\n",
    "\n",
    "# 寫入一些 log\n",
    "logger.info(\"這是寫入 example.log 的訊息\")\n",
    "\n",
    "# 從 logger 中移除並關閉 handler 以釋放檔案資源\n",
    "logger.removeHandler(file_handler)\n",
    "file_handler.close()\n",
    "\n",
    "# 使用 os.rename() 將檔案重新命名\n",
    "os.unlink(\"example2.log\")\n",
    "os.rename(\"example.log\", \"example2.log\")"
   ]
  }
 ],
 "metadata": {
  "kernelspec": {
   "display_name": "Python 3",
   "language": "python",
   "name": "python3"
  },
  "language_info": {
   "codemirror_mode": {
    "name": "ipython",
    "version": 3
   },
   "file_extension": ".py",
   "mimetype": "text/x-python",
   "name": "python",
   "nbconvert_exporter": "python",
   "pygments_lexer": "ipython3",
   "version": "3.10.16"
  }
 },
 "nbformat": 4,
 "nbformat_minor": 2
}
