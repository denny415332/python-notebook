{
 "cells": [
  {
   "cell_type": "code",
   "execution_count": 1,
   "metadata": {},
   "outputs": [
    {
     "name": "stdout",
     "output_type": "stream",
     "text": [
      "test\n",
      "\n",
      "test2\n",
      "Traceback (most recent call last):\n",
      "  File \"C:\\Users\\kexian.kuo\\AppData\\Local\\Temp\\ipykernel_22524\\4011997570.py\", line 5, in <module>\n",
      "    raise ValueError(\"test\")\n",
      "ValueError: test\n",
      "\n",
      "The above exception was the direct cause of the following exception:\n",
      "\n",
      "Traceback (most recent call last):\n",
      "  File \"C:\\Users\\kexian.kuo\\AppData\\Local\\Temp\\ipykernel_22524\\4011997570.py\", line 8, in <module>\n",
      "    raise ValueError(\"test2\") from e\n",
      "ValueError: test2\n",
      "\n"
     ]
    }
   ],
   "source": [
    "import traceback\n",
    "\n",
    "try:\n",
    "    try:\n",
    "        raise ValueError(\"test\")\n",
    "    except Exception as e:\n",
    "        print(e, end=\"\\n\\n\")\n",
    "        raise ValueError(\"test2\") from e\n",
    "except Exception as e:\n",
    "    print(e)\n",
    "    print(traceback.format_exc())"
   ]
  },
  {
   "cell_type": "code",
   "execution_count": 2,
   "metadata": {},
   "outputs": [
    {
     "name": "stdout",
     "output_type": "stream",
     "text": [
      "test\n",
      "\n",
      "test2\n",
      "Traceback (most recent call last):\n",
      "  File \"C:\\Users\\kexian.kuo\\AppData\\Local\\Temp\\ipykernel_22524\\3848645792.py\", line 5, in <module>\n",
      "    raise ValueError(\"test\")\n",
      "ValueError: test\n",
      "\n",
      "During handling of the above exception, another exception occurred:\n",
      "\n",
      "Traceback (most recent call last):\n",
      "  File \"C:\\Users\\kexian.kuo\\AppData\\Local\\Temp\\ipykernel_22524\\3848645792.py\", line 8, in <module>\n",
      "    raise ValueError(\"test2\")\n",
      "ValueError: test2\n",
      "\n"
     ]
    }
   ],
   "source": [
    "import traceback\n",
    "\n",
    "try:\n",
    "    try:\n",
    "        raise ValueError(\"test\")\n",
    "    except Exception as e:\n",
    "        print(e, end=\"\\n\\n\")\n",
    "        raise ValueError(\"test2\")\n",
    "except Exception as e:\n",
    "    print(e)\n",
    "    print(traceback.format_exc())\n"
   ]
  }
 ],
 "metadata": {
  "kernelspec": {
   "display_name": "Python 3",
   "language": "python",
   "name": "python3"
  },
  "language_info": {
   "codemirror_mode": {
    "name": "ipython",
    "version": 3
   },
   "file_extension": ".py",
   "mimetype": "text/x-python",
   "name": "python",
   "nbconvert_exporter": "python",
   "pygments_lexer": "ipython3",
   "version": "3.10.16"
  }
 },
 "nbformat": 4,
 "nbformat_minor": 2
}
