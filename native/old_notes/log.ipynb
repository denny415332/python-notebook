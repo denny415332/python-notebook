{
 "cells": [
  {
   "cell_type": "code",
   "execution_count": 1,
   "metadata": {},
   "outputs": [],
   "source": [
    "import logging"
   ]
  },
  {
   "cell_type": "code",
   "execution_count": 2,
   "metadata": {},
   "outputs": [
    {
     "name": "stderr",
     "output_type": "stream",
     "text": [
      "2024-12-09 16:09:21,544 - DEBUG    - 這是 Debug 訊息\n",
      "2024-12-09 16:09:21,544 - INFO     - 這是 Info 訊息\n",
      "2024-12-09 16:09:21,545 - WARNING  - 這是 Warning 訊息\n",
      "2024-12-09 16:09:21,546 - ERROR    - 這是 Error 訊息\n",
      "2024-12-09 16:09:21,547 - CRITICAL - 這是 Critical 訊息\n"
     ]
    }
   ],
   "source": [
    "# 設定 log 格式\n",
    "log_format = \"%(asctime)s - %(levelname)-8s - %(message)s\"\n",
    "log_file = \"app.log\"\n",
    "\n",
    "# 建立 logger\n",
    "logger = logging.getLogger(\"MyLogger\")\n",
    "logger.setLevel(logging.DEBUG)  # 設定最低的 log 等級\n",
    "\n",
    "# 建立 FileHandler 並設定格式\n",
    "file_handler = logging.FileHandler(log_file)\n",
    "file_handler.setLevel(logging.DEBUG)\n",
    "file_handler.setFormatter(logging.Formatter(log_format))\n",
    "\n",
    "# 建立 StreamHandler 並設定格式 (CLI 顯示)\n",
    "stream_handler = logging.StreamHandler()\n",
    "stream_handler.setLevel(logging.DEBUG)\n",
    "stream_handler.setFormatter(logging.Formatter(log_format))\n",
    "\n",
    "# 加入 Handlers 到 logger\n",
    "logger.addHandler(file_handler)\n",
    "logger.addHandler(stream_handler)\n",
    "\n",
    "# 測試 log\n",
    "logger.debug(\"這是 Debug 訊息\")\n",
    "logger.info(\"這是 Info 訊息\")\n",
    "logger.warning(\"這是 Warning 訊息\")\n",
    "logger.error(\"這是 Error 訊息\")\n",
    "logger.critical(\"這是 Critical 訊息\")"
   ]
  }
 ],
 "metadata": {
  "kernelspec": {
   "display_name": "venv",
   "language": "python",
   "name": "python3"
  },
  "language_info": {
   "codemirror_mode": {
    "name": "ipython",
    "version": 3
   },
   "file_extension": ".py",
   "mimetype": "text/x-python",
   "name": "python",
   "nbconvert_exporter": "python",
   "pygments_lexer": "ipython3",
   "version": "3.10.15"
  }
 },
 "nbformat": 4,
 "nbformat_minor": 2
}
