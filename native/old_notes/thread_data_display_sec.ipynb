{
 "cells": [
  {
   "cell_type": "code",
   "execution_count": 1,
   "metadata": {},
   "outputs": [],
   "source": [
    "import threading\n",
    "import time"
   ]
  },
  {
   "cell_type": "code",
   "execution_count": 2,
   "metadata": {},
   "outputs": [],
   "source": [
    "def start_data_display(data):\n",
    "    \"\"\"啟動每秒顯示資料的執行緒\n",
    "\n",
    "    Args:\n",
    "        data (list): 要顯示的資料列表\n",
    "    \"\"\"\n",
    "\n",
    "    def display_data():\n",
    "        \"\"\"每秒顯示一次資料\"\"\"\n",
    "        index = 0\n",
    "        while True:\n",
    "            print(data[index])\n",
    "            index = (index + 1) % len(data)  # 循環顯示\n",
    "            time.sleep(1)\n",
    "\n",
    "    # 建立並啟動執行緒\n",
    "    data_thread = threading.Thread(target=display_data, daemon=True)\n",
    "    data_thread.start()"
   ]
  },
  {
   "cell_type": "code",
   "execution_count": null,
   "metadata": {},
   "outputs": [],
   "source": [
    "if __name__ == \"__main__\":\n",
    "    # 資料來源\n",
    "    sample_data = [\"Data1\", \"Data2\", \"Data3\", \"Data4\", \"Data5\"]\n",
    "\n",
    "    # 啟動顯示執行緒\n",
    "    start_data_display(sample_data)\n",
    "\n",
    "    # 主程式保持執行\n",
    "    try:\n",
    "        while True:\n",
    "            time.sleep(0.1)  # 避免主程式退出\n",
    "    except KeyboardInterrupt:\n",
    "        print(\"\\n程式結束\")"
   ]
  }
 ],
 "metadata": {
  "kernelspec": {
   "display_name": "venv",
   "language": "python",
   "name": "python3"
  },
  "language_info": {
   "codemirror_mode": {
    "name": "ipython",
    "version": 3
   },
   "file_extension": ".py",
   "mimetype": "text/x-python",
   "name": "python",
   "nbconvert_exporter": "python",
   "pygments_lexer": "ipython3",
   "version": "3.10.15"
  }
 },
 "nbformat": 4,
 "nbformat_minor": 2
}
