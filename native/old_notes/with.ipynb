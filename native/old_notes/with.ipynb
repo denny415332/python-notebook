{
 "cells": [
  {
   "cell_type": "code",
   "execution_count": 1,
   "metadata": {},
   "outputs": [
    {
     "name": "stdout",
     "output_type": "stream",
     "text": [
      "Start\n",
      "In with\n",
      "End\n"
     ]
    }
   ],
   "source": [
    "class TestWith:\n",
    "    def __enter__(self):\n",
    "        print(\"Start\")\n",
    "        return self\n",
    "\n",
    "    def __exit__(self, exc_type, exc_value, traceback):\n",
    "        print(\"End\")\n",
    "\n",
    "\n",
    "with TestWith():\n",
    "    print(\"In with\")"
   ]
  },
  {
   "cell_type": "code",
   "execution_count": 2,
   "metadata": {},
   "outputs": [
    {
     "name": "stdout",
     "output_type": "stream",
     "text": [
      "Start\n",
      "In with\n",
      "1\n",
      "End\n"
     ]
    }
   ],
   "source": [
    "class TestWith:\n",
    "    def __enter__(self):\n",
    "        print(\"Start\")\n",
    "        return 1  # 這裡返回 1，對應原本 yield 1 的值\n",
    "\n",
    "    def __exit__(self, exc_type, exc_value, traceback):\n",
    "        print(\"End\")\n",
    "\n",
    "\n",
    "# 使用方式\n",
    "with TestWith() as v:\n",
    "    print(\"In with\")\n",
    "    print(v)"
   ]
  },
  {
   "cell_type": "code",
   "execution_count": 3,
   "metadata": {},
   "outputs": [
    {
     "name": "stdout",
     "output_type": "stream",
     "text": [
      "Start\n",
      "In with\n",
      "1\n",
      "End\n"
     ]
    }
   ],
   "source": [
    "from contextlib import contextmanager\n",
    "\n",
    "\n",
    "@contextmanager\n",
    "def test_with():\n",
    "    try:\n",
    "        print(\"Start\")\n",
    "        yield 1\n",
    "    finally:\n",
    "        print(\"End\")\n",
    "\n",
    "\n",
    "with test_with() as v:\n",
    "    print(\"In with\")\n",
    "    print(v)\n"
   ]
  }
 ],
 "metadata": {
  "kernelspec": {
   "display_name": "Python 3",
   "language": "python",
   "name": "python3"
  },
  "language_info": {
   "codemirror_mode": {
    "name": "ipython",
    "version": 3
   },
   "file_extension": ".py",
   "mimetype": "text/x-python",
   "name": "python",
   "nbconvert_exporter": "python",
   "pygments_lexer": "ipython3",
   "version": "3.10.16"
  }
 },
 "nbformat": 4,
 "nbformat_minor": 2
}
