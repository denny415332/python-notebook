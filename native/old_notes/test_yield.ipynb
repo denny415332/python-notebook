{
 "cells": [
  {
   "cell_type": "code",
   "execution_count": 4,
   "metadata": {},
   "outputs": [
    {
     "name": "stdout",
     "output_type": "stream",
     "text": [
      "1 2 3 4 5 6 7 8 9 10 end yield\n",
      "end\n"
     ]
    }
   ],
   "source": [
    "from time import sleep\n",
    "\n",
    "\n",
    "def test_yield():\n",
    "    for i in range(10):\n",
    "        yield i\n",
    "\n",
    "    print(\"end yield\")\n",
    "\n",
    "\n",
    "for i in test_yield():\n",
    "    print(i + 1, end=\" \")\n",
    "    sleep(1)\n",
    "    print(\"\")\n",
    "\n",
    "print(\"end\")\n"
   ]
  }
 ],
 "metadata": {
  "kernelspec": {
   "display_name": "Python 3",
   "language": "python",
   "name": "python3"
  },
  "language_info": {
   "codemirror_mode": {
    "name": "ipython",
    "version": 3
   },
   "file_extension": ".py",
   "mimetype": "text/x-python",
   "name": "python",
   "nbconvert_exporter": "python",
   "pygments_lexer": "ipython3",
   "version": "3.10.16"
  }
 },
 "nbformat": 4,
 "nbformat_minor": 2
}
