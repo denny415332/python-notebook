{
 "cells": [
  {
   "cell_type": "code",
   "execution_count": 1,
   "metadata": {},
   "outputs": [
    {
     "data": {
      "text/plain": [
       "<__main__.InstanceExample at 0x251e0bc88e0>"
      ]
     },
     "execution_count": 1,
     "metadata": {},
     "output_type": "execute_result"
    }
   ],
   "source": [
    "from __future__ import annotations\n",
    "\n",
    "\n",
    "class InstanceExample:\n",
    "    \"\"\"實例範例\"\"\"\n",
    "\n",
    "    _instance: InstanceExample = None\n",
    "    \"\"\"實例\"\"\"\n",
    "    data: int = 0\n",
    "    \"\"\"資料\"\"\"\n",
    "\n",
    "    def __new__(cls, *args, **kwargs):\n",
    "        \"\"\"實例化\"\"\"\n",
    "        if cls._instance is None:\n",
    "            cls._instance = super(InstanceExample, cls).__new__(cls, *args, **kwargs)\n",
    "        return cls._instance\n",
    "\n",
    "    @classmethod\n",
    "    def get_instance(cls) -> InstanceExample:\n",
    "        \"\"\"取得實例\"\"\"\n",
    "        return cls._instance\n",
    "\n",
    "    def set_data(self, data: int):\n",
    "        \"\"\"設定資料\"\"\"\n",
    "        self.data = data\n",
    "\n",
    "    def get_data(self) -> int:\n",
    "        \"\"\"取得資料\"\"\"\n",
    "        return self.data\n",
    "\n",
    "\n",
    "InstanceExample()"
   ]
  },
  {
   "cell_type": "code",
   "execution_count": 2,
   "metadata": {},
   "outputs": [
    {
     "data": {
      "text/plain": [
       "10"
      ]
     },
     "execution_count": 2,
     "metadata": {},
     "output_type": "execute_result"
    }
   ],
   "source": [
    "ie = InstanceExample.get_instance()\n",
    "ie.set_data(10)\n",
    "ie.get_data()"
   ]
  }
 ],
 "metadata": {
  "kernelspec": {
   "display_name": "Python 3",
   "language": "python",
   "name": "python3"
  },
  "language_info": {
   "codemirror_mode": {
    "name": "ipython",
    "version": 3
   },
   "file_extension": ".py",
   "mimetype": "text/x-python",
   "name": "python",
   "nbconvert_exporter": "python",
   "pygments_lexer": "ipython3",
   "version": "3.10.16"
  }
 },
 "nbformat": 4,
 "nbformat_minor": 2
}
