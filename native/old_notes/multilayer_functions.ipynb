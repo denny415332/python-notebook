{
 "cells": [
  {
   "cell_type": "markdown",
   "metadata": {
    "vscode": {
     "languageId": "plaintext"
    }
   },
   "source": [
    "# Python 多層函式（嵌套函式）\n",
    "\n",
    "在 Python 中，「多層函式」（也常稱作「嵌套函式」或「巢狀函式」）是指在一個函式（外函式）內部定義另一個函式（內函式）。其主要作用與優點包括：\n",
    "\n",
    "1. **封裝與命名空間隔離**  \n",
    "   - 內函式只在外函式作用域內可見，不會污染全域命名空間。  \n",
    "   - 適合將只被單一函式使用的輔助程式碼隱藏起來。\n",
    "\n",
    "2. **閉包（Closure）與狀態保存**  \n",
    "   - 內函式可以「捕捉」並記住外函式的參數及局部變數，形成閉包，從而保留執行時的環境狀態。  \n",
    "   - 常用於建立帶有內部狀態的函式工廠（function factory）。\n",
    "\n",
    "3. **高階函式／裝飾器**  \n",
    "   - 建立裝飾器（decorator）時，典型地透過多層函式接受被裝飾函式，然後在內層函式中包裹額外行為。\n",
    "\n",
    "4. **實現回呼（Callback）或局部輔助**  \n",
    "   - 將上下文相關的輔助函式局部化，並作為回呼傳遞。"
   ]
  },
  {
   "cell_type": "markdown",
   "metadata": {
    "vscode": {
     "languageId": "plaintext"
    }
   },
   "source": [
    "## 範例 1：閉包示例（Counter 工廠）"
   ]
  },
  {
   "cell_type": "code",
   "execution_count": 1,
   "metadata": {},
   "outputs": [
    {
     "name": "stdout",
     "output_type": "stream",
     "text": [
      "1\n",
      "2\n",
      "1\n"
     ]
    }
   ],
   "source": [
    "def make_counter():\n",
    "    count = 0\n",
    "\n",
    "    def counter():\n",
    "        nonlocal count  # 告訴 Python 我們要修改外層 count\n",
    "        count += 1\n",
    "        return count\n",
    "\n",
    "    return counter\n",
    "\n",
    "\n",
    "c1 = make_counter()\n",
    "print(c1())  # 1\n",
    "print(c1())  # 2\n",
    "\n",
    "c2 = make_counter()\n",
    "print(c2())  # 1  （c2 保有自己獨立的 count）"
   ]
  },
  {
   "cell_type": "markdown",
   "metadata": {},
   "source": [
    "- `make_counter()` 回傳的 `counter` 內函式，就「閉包」住了 `count` 變數。"
   ]
  },
  {
   "cell_type": "markdown",
   "metadata": {},
   "source": [
    "## 範例 2：簡易裝飾器"
   ]
  },
  {
   "cell_type": "code",
   "execution_count": 2,
   "metadata": {},
   "outputs": [
    {
     "name": "stdout",
     "output_type": "stream",
     "text": [
      "呼叫 add，參數：(3, 5), {}\n",
      "add 回傳：8\n",
      "呼叫 add，參數：(), {'a': 3, 'b': 5}\n",
      "add 回傳：8\n"
     ]
    },
    {
     "data": {
      "text/plain": [
       "8"
      ]
     },
     "execution_count": 2,
     "metadata": {},
     "output_type": "execute_result"
    }
   ],
   "source": [
    "def debug(func):\n",
    "    def wrapper(*args, **kwargs):\n",
    "        print(f\"呼叫 {func.__name__}，參數：{args}, {kwargs}\")\n",
    "        result = func(*args, **kwargs)\n",
    "        print(f\"{func.__name__} 回傳：{result}\")\n",
    "        return result\n",
    "\n",
    "    return wrapper\n",
    "\n",
    "\n",
    "@debug\n",
    "def add(a, b):\n",
    "    return a + b\n",
    "\n",
    "\n",
    "add(3, 5)\n",
    "\n",
    "add(a=3, b=5)"
   ]
  },
  {
   "cell_type": "markdown",
   "metadata": {},
   "source": [
    "- `debug` 是外函式，`wrapper` 是內函式。`@debug` 語法下，`add` 被包在 `wrapper` 內層中，實現呼前與呼後的附加行為。"
   ]
  },
  {
   "cell_type": "markdown",
   "metadata": {},
   "source": [
    "## 範例 3：局部輔助函式"
   ]
  },
  {
   "cell_type": "code",
   "execution_count": 3,
   "metadata": {},
   "outputs": [
    {
     "name": "stdout",
     "output_type": "stream",
     "text": [
      "['alice', 'bob', 'charlie']\n"
     ]
    }
   ],
   "source": [
    "def process(data):\n",
    "    def clean(x):\n",
    "        # 只在 process() 中使用，不會成為全域名稱\n",
    "        return x.strip().lower()\n",
    "\n",
    "    return [clean(item) for item in data]\n",
    "\n",
    "\n",
    "raw = [\" Alice \", \"Bob \", \"  ChArLie\"]\n",
    "print(process(raw))\n",
    "# ['alice', 'bob', 'charlie']"
   ]
  },
  {
   "cell_type": "markdown",
   "metadata": {},
   "source": [
    "- `clean` 只在 `process` 函式體內有效，可防止外部誤用。"
   ]
  },
  {
   "cell_type": "markdown",
   "metadata": {},
   "source": [
    "## 注意事項\n",
    "- 若內函式要修改外層變數，必須使用 `nonlocal`（或 `global`，但盡量避免全域污染）。  \n",
    "- 過度使用嵌套函式可能會讓程式結構複雜，需平衡可讀性。"
   ]
  },
  {
   "cell_type": "markdown",
   "metadata": {},
   "source": [
    "透過多層函式，你可以更靈活地管理作用域、封裝狀態，並實現高階函式、閉包與裝飾器等強大功能。"
   ]
  }
 ],
 "metadata": {
  "kernelspec": {
   "display_name": "Python 3",
   "language": "python",
   "name": "python3"
  },
  "language_info": {
   "codemirror_mode": {
    "name": "ipython",
    "version": 3
   },
   "file_extension": ".py",
   "mimetype": "text/x-python",
   "name": "python",
   "nbconvert_exporter": "python",
   "pygments_lexer": "ipython3",
   "version": "3.10.16"
  }
 },
 "nbformat": 4,
 "nbformat_minor": 2
}
