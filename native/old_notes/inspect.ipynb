{
 "cells": [
  {
   "cell_type": "code",
   "execution_count": 1,
   "metadata": {},
   "outputs": [],
   "source": [
    "import inspect"
   ]
  },
  {
   "cell_type": "code",
   "execution_count": 2,
   "metadata": {},
   "outputs": [],
   "source": [
    "frame = inspect.currentframe()"
   ]
  },
  {
   "cell_type": "code",
   "execution_count": 3,
   "metadata": {},
   "outputs": [
    {
     "data": {
      "text/plain": [
       "{'__name__': '__main__',\n",
       " '__doc__': 'Automatically created module for IPython interactive environment',\n",
       " '__package__': None,\n",
       " '__loader__': None,\n",
       " '__spec__': None,\n",
       " '__builtin__': <module 'builtins' (built-in)>,\n",
       " '__builtins__': <module 'builtins' (built-in)>,\n",
       " '_ih': ['',\n",
       "  'import inspect',\n",
       "  'frame = inspect.currentframe()',\n",
       "  'frame.f_globals'],\n",
       " '_oh': {},\n",
       " '_dh': [WindowsPath('d:/repos/python/YL_13-gen2/projects/CLI and GUI/examples')],\n",
       " 'In': ['',\n",
       "  'import inspect',\n",
       "  'frame = inspect.currentframe()',\n",
       "  'frame.f_globals'],\n",
       " 'Out': {},\n",
       " 'get_ipython': <bound method InteractiveShell.get_ipython of <ipykernel.zmqshell.ZMQInteractiveShell object at 0x000002395E6A5ED0>>,\n",
       " 'exit': <IPython.core.autocall.ZMQExitAutocall at 0x2395e6a6950>,\n",
       " 'quit': <IPython.core.autocall.ZMQExitAutocall at 0x2395e6a6950>,\n",
       " 'open': <function io.open(file, mode='r', buffering=-1, encoding=None, errors=None, newline=None, closefd=True, opener=None)>,\n",
       " '_': '',\n",
       " '__': '',\n",
       " '___': '',\n",
       " '__vsc_ipynb_file__': 'd:\\\\repos\\\\python\\\\YL_13-gen2\\\\projects\\\\CLI and GUI\\\\examples\\\\inspect.ipynb',\n",
       " '_i': 'frame = inspect.currentframe()',\n",
       " '_ii': 'import inspect',\n",
       " '_iii': '',\n",
       " '_i1': 'import inspect',\n",
       " 'inspect': <module 'inspect' from 'd:\\\\repos\\\\python\\\\YL_13-gen2\\\\projects\\\\CLI and GUI\\\\venv\\\\lib\\\\inspect.py'>,\n",
       " '_i2': 'frame = inspect.currentframe()',\n",
       " 'frame': <frame at 0x000002395D3BFDE0, file 'C:\\\\Users\\\\kexian.kuo\\\\AppData\\\\Local\\\\Temp\\\\ipykernel_22624\\\\1629591909.py', line 1, code <module>>,\n",
       " '_i3': 'frame.f_globals'}"
      ]
     },
     "execution_count": 3,
     "metadata": {},
     "output_type": "execute_result"
    }
   ],
   "source": [
    "frame.f_globals"
   ]
  }
 ],
 "metadata": {
  "kernelspec": {
   "display_name": "Python 3",
   "language": "python",
   "name": "python3"
  },
  "language_info": {
   "codemirror_mode": {
    "name": "ipython",
    "version": 3
   },
   "file_extension": ".py",
   "mimetype": "text/x-python",
   "name": "python",
   "nbconvert_exporter": "python",
   "pygments_lexer": "ipython3",
   "version": "3.10.16"
  }
 },
 "nbformat": 4,
 "nbformat_minor": 2
}
