{
 "cells": [
  {
   "cell_type": "code",
   "execution_count": 1,
   "metadata": {},
   "outputs": [],
   "source": [
    "import logging\n",
    "from logging import StreamHandler, FileHandler"
   ]
  },
  {
   "cell_type": "code",
   "execution_count": null,
   "metadata": {},
   "outputs": [],
   "source": [
    "print(\n",
    "    f\"{'DEBUG: ':9s}{logging.DEBUG}\\n\"\n",
    "    f\"{'INFO: ':9s}{logging.INFO}\\n\"\n",
    "    f\"{'WARNING: ':9s}{logging.WARNING}\\n\"\n",
    "    f\"{'ERROR: ':9s}{logging.ERROR}\\n\"\n",
    "    f\"{'CRITICAL: ':9s}{logging.CRITICAL}\"\n",
    ")"
   ]
  },
  {
   "cell_type": "code",
   "execution_count": null,
   "metadata": {},
   "outputs": [],
   "source": [
    "logger = logging.getLogger(__name__)\n",
    "print(f\"logger: {logger}\")\n",
    "logger.setLevel(logging.INFO)\n",
    "print(f\"logger.level:\\t\\t\\t{logger.level}\")\n",
    "print(f\"logger.getEffectiveLevel():\\t{logger.getEffectiveLevel()}\")"
   ]
  },
  {
   "cell_type": "code",
   "execution_count": null,
   "metadata": {},
   "outputs": [],
   "source": [
    "for handler in logger.handlers:\n",
    "    logger.removeHandler(handler)\n",
    "    print(f\"removed handler: {handler}\")"
   ]
  },
  {
   "cell_type": "code",
   "execution_count": null,
   "metadata": {},
   "outputs": [],
   "source": [
    "print(f\"logger.handlers: {'None' if len(logger.handlers) == 0 else ''}\")\n",
    "for handler in logger.handlers:\n",
    "    print(f\"{handler}\")"
   ]
  },
  {
   "cell_type": "code",
   "execution_count": 4,
   "metadata": {},
   "outputs": [],
   "source": [
    "console_handler = StreamHandler()\n",
    "logger.addHandler(console_handler)"
   ]
  },
  {
   "cell_type": "code",
   "execution_count": null,
   "metadata": {},
   "outputs": [],
   "source": [
    "file_handler = FileHandler(\"log.log\")\n",
    "logger.addHandler(file_handler)"
   ]
  },
  {
   "cell_type": "code",
   "execution_count": 5,
   "metadata": {},
   "outputs": [
    {
     "name": "stdout",
     "output_type": "stream",
     "text": [
      "logger.level: 0\n",
      "logger.propagate: True\n",
      "logger.handlers: None\n"
     ]
    }
   ],
   "source": [
    "from logging import getLogger\n",
    "\n",
    "\n",
    "logger = getLogger(\"test\")\n",
    "logger.setLevel(logging.INFO)\n",
    "logger.addHandler(StreamHandler())\n",
    "logger.propagate = False\n",
    "\n",
    "logger = getLogger(\"test2\")\n",
    "print(f\"logger.level: {logger.level}\")\n",
    "print(f\"logger.propagate: {logger.propagate}\")\n",
    "print(f\"logger.handlers: {'None' if len(logger.handlers) == 0 else ''}\")\n",
    "for handler in logger.handlers:\n",
    "    print(f\"{handler}\")\n"
   ]
  }
 ],
 "metadata": {
  "kernelspec": {
   "display_name": "Python 3",
   "language": "python",
   "name": "python3"
  },
  "language_info": {
   "codemirror_mode": {
    "name": "ipython",
    "version": 3
   },
   "file_extension": ".py",
   "mimetype": "text/x-python",
   "name": "python",
   "nbconvert_exporter": "python",
   "pygments_lexer": "ipython3",
   "version": "3.10.16"
  }
 },
 "nbformat": 4,
 "nbformat_minor": 2
}
