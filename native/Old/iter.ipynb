{
 "cells": [
  {
   "cell_type": "code",
   "execution_count": 1,
   "metadata": {},
   "outputs": [
    {
     "name": "stdout",
     "output_type": "stream",
     "text": [
      "1\n",
      "2\n",
      "3\n",
      "1\n",
      "2\n",
      "3\n",
      "4\n",
      "5\n"
     ]
    }
   ],
   "source": [
    "# 定義函式 test，返回生成器\n",
    "def test():\n",
    "    result = [1, 2, 3, 4, 5]  # 假設你的函式產生這個結果\n",
    "    for item in result:\n",
    "        yield item  # 使用 yield 一次輸出一個元素\n",
    "\n",
    "\n",
    "# 使用生成器的函式\n",
    "generator = test()  # 呼叫函式 test，得到生成器物件\n",
    "\n",
    "# 從生成器中分次取出資料\n",
    "print(next(generator))  # 輸出 1\n",
    "print(next(generator))  # 輸出 2\n",
    "print(next(generator))  # 輸出 3\n",
    "\n",
    "# 也可以用迴圈一次取出所有元素\n",
    "for item in test():\n",
    "    print(item)\n"
   ]
  },
  {
   "cell_type": "code",
   "execution_count": 2,
   "metadata": {},
   "outputs": [
    {
     "name": "stdout",
     "output_type": "stream",
     "text": [
      "1\n",
      "2\n",
      "3\n",
      "4\n",
      "5\n"
     ]
    }
   ],
   "source": [
    "class TestIterator:\n",
    "    def __init__(self):\n",
    "        self.result = [1, 2, 3, 4, 5]\n",
    "        self.index = 0\n",
    "\n",
    "    def __iter__(self):\n",
    "        return self\n",
    "\n",
    "    def __next__(self):\n",
    "        if self.index < len(self.result):\n",
    "            item = self.result[self.index]\n",
    "            self.index += 1\n",
    "            return item\n",
    "        else:\n",
    "            raise StopIteration\n",
    "\n",
    "# 使用自訂迭代器\n",
    "test_iter = TestIterator()\n",
    "\n",
    "for item in test_iter:\n",
    "    print(item)\n"
   ]
  },
  {
   "cell_type": "code",
   "execution_count": null,
   "metadata": {},
   "outputs": [],
   "source": [
    "from collections.abc import Iterator\n",
    "\n",
    "\n",
    "class TestIterator(Iterator):\n",
    "    def __init__(self):\n",
    "        self.result = [1, 2, 3, 4, 5]\n",
    "        self.index = 0\n",
    "\n",
    "    def __iter__(self):\n",
    "        return self\n",
    "\n",
    "    def __next__(self):\n",
    "        if self.index < len(self.result):\n",
    "            item = self.result[self.index]\n",
    "            self.index += 1\n",
    "            return item\n",
    "        else:\n",
    "            raise StopIteration\n"
   ]
  }
 ],
 "metadata": {
  "kernelspec": {
   "display_name": "Python 3",
   "language": "python",
   "name": "python3"
  },
  "language_info": {
   "codemirror_mode": {
    "name": "ipython",
    "version": 3
   },
   "file_extension": ".py",
   "mimetype": "text/x-python",
   "name": "python",
   "nbconvert_exporter": "python",
   "pygments_lexer": "ipython3",
   "version": "3.10.16"
  }
 },
 "nbformat": 4,
 "nbformat_minor": 2
}
