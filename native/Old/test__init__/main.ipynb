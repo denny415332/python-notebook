{
 "cells": [
  {
   "cell_type": "code",
   "execution_count": 1,
   "metadata": {},
   "outputs": [],
   "source": [
    "from src.example import main"
   ]
  },
  {
   "cell_type": "code",
   "execution_count": 2,
   "metadata": {},
   "outputs": [
    {
     "name": "stdout",
     "output_type": "stream",
     "text": [
      "開始展示套件功能...\n",
      "\n",
      "=== 基本功能展示 ===\n",
      "你好，這是一個基本範例！\n",
      "你好，小明！\n",
      "捕獲到錯誤：這是一個測試錯誤\n",
      "\n",
      "=== 數據處理功能展示 ===\n",
      "偶數：[2, 4, 6, 8, 10]\n",
      "平方：[1, 4, 9, 16, 25, 36, 49, 64, 81, 100]\n",
      "總和：55\n",
      "\n",
      "=== 配置管理功能展示 ===\n",
      "應用名稱：我的應用\n",
      "數據庫配置：{'host': 'localhost', 'port': 5432, 'user': 'admin'}\n",
      "\n",
      "=== 工具函數展示 ===\n",
      "[INFO] 系統啟動成功\n",
      "圓周率：3.142\n",
      "\n",
      "=== 組合使用展示 ===\n",
      "[INFO] 你好，小明！\n",
      "[INFO] 你好，小華！\n",
      "[INFO] 你好，小美！\n",
      "\n",
      "功能展示完成！\n"
     ]
    }
   ],
   "source": [
    "main()"
   ]
  }
 ],
 "metadata": {
  "kernelspec": {
   "display_name": "Python 3",
   "language": "python",
   "name": "python3"
  },
  "language_info": {
   "codemirror_mode": {
    "name": "ipython",
    "version": 3
   },
   "file_extension": ".py",
   "mimetype": "text/x-python",
   "name": "python",
   "nbconvert_exporter": "python",
   "pygments_lexer": "ipython3",
   "version": "3.10.16"
  }
 },
 "nbformat": 4,
 "nbformat_minor": 2
}
