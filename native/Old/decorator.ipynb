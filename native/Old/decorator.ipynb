{
 "cells": [
  {
   "cell_type": "markdown",
   "metadata": {},
   "source": [
    "# Python 裝飾器（Decorator）用法筆記\n",
    "\n",
    "## 1. 什麼是裝飾器？\n",
    "- **裝飾器**是一種「高階函式」（higher-order function），接受一個函式作為參數，並返回一個新函式，用以在不改動原函式的前提下，給其添加額外行為。"
   ]
  },
  {
   "cell_type": "markdown",
   "metadata": {},
   "source": [
    "## 2. 基本語法"
   ]
  },
  {
   "cell_type": "code",
   "execution_count": 1,
   "metadata": {},
   "outputs": [
    {
     "name": "stdout",
     "output_type": "stream",
     "text": [
      "3\n"
     ]
    }
   ],
   "source": [
    "def decorator(func):\n",
    "    def wrapper(*args, **kwargs):\n",
    "        # 裝飾前：可執行任意程式碼\n",
    "        result = func(*args, **kwargs)\n",
    "        # 裝飾後：可執行任意程式碼\n",
    "        return result\n",
    "\n",
    "    return wrapper\n",
    "\n",
    "\n",
    "@decorator\n",
    "def my_function(x, y):\n",
    "    return x + y\n",
    "\n",
    "\n",
    "# 等同於：\n",
    "# my_function = decorator(my_function)\n",
    "print(my_function(1, 2))"
   ]
  },
  {
   "cell_type": "markdown",
   "metadata": {},
   "source": [
    "## 3. 範例：紀錄函式執行時間"
   ]
  },
  {
   "cell_type": "code",
   "execution_count": 2,
   "metadata": {},
   "outputs": [
    {
     "name": "stdout",
     "output_type": "stream",
     "text": [
      "fib 耗時：0.0000 秒\n",
      "fib 耗時：0.0000 秒\n",
      "fib 耗時：0.0010 秒\n",
      "fib 耗時：0.0000 秒\n",
      "fib 耗時：0.0010 秒\n",
      "fib 耗時：0.0000 秒\n",
      "fib 耗時：0.0000 秒\n",
      "fib 耗時：0.0000 秒\n",
      "fib 耗時：0.0010 秒\n",
      "fib 耗時：0.0000 秒\n",
      "fib 耗時：0.0000 秒\n",
      "fib 耗時：0.0000 秒\n",
      "fib 耗時：0.0000 秒\n",
      "fib 耗時：0.0000 秒\n",
      "fib 耗時：0.0010 秒\n",
      "fib 耗時：0.0000 秒\n",
      "fib 耗時：0.0000 秒\n",
      "fib 耗時：0.0000 秒\n",
      "fib 耗時：0.0000 秒\n",
      "fib 耗時：0.0000 秒\n",
      "fib 耗時：0.0000 秒\n",
      "fib 耗時：0.0000 秒\n",
      "fib 耗時：0.0000 秒\n",
      "fib 耗時：0.0000 秒\n",
      "fib 耗時：0.0010 秒\n",
      "fib 耗時：0.0000 秒\n",
      "fib 耗時：0.0000 秒\n",
      "fib 耗時：0.0000 秒\n",
      "fib 耗時：0.0000 秒\n",
      "fib 耗時：0.0000 秒\n",
      "fib 耗時：0.0000 秒\n",
      "fib 耗時：0.0000 秒\n",
      "fib 耗時：0.0000 秒\n",
      "fib 耗時：0.0000 秒\n",
      "fib 耗時：0.0000 秒\n",
      "fib 耗時：0.0000 秒\n",
      "fib 耗時：0.0000 秒\n",
      "fib 耗時：0.0000 秒\n",
      "fib 耗時：0.0000 秒\n",
      "fib 耗時：0.0000 秒\n",
      "fib 耗時：0.0010 秒\n",
      "fib 耗時：0.0000 秒\n",
      "fib 耗時：0.0000 秒\n",
      "fib 耗時：0.0000 秒\n",
      "fib 耗時：0.0000 秒\n",
      "fib 耗時：0.0000 秒\n",
      "fib 耗時：0.0000 秒\n",
      "fib 耗時：0.0000 秒\n",
      "fib 耗時：0.0000 秒\n",
      "fib 耗時：0.0000 秒\n",
      "fib 耗時：0.0000 秒\n",
      "fib 耗時：0.0000 秒\n",
      "fib 耗時：0.0000 秒\n",
      "fib 耗時：0.0000 秒\n",
      "fib 耗時：0.0000 秒\n",
      "fib 耗時：0.0000 秒\n",
      "fib 耗時：0.0000 秒\n",
      "fib 耗時：0.0000 秒\n",
      "fib 耗時：0.0000 秒\n",
      "fib 耗時：0.0000 秒\n",
      "fib 耗時：0.0000 秒\n",
      "fib 耗時：0.0000 秒\n",
      "fib 耗時：0.0000 秒\n",
      "fib 耗時：0.0000 秒\n",
      "fib 耗時：0.0000 秒\n",
      "fib 耗時：0.0000 秒\n",
      "fib 耗時：0.0010 秒\n",
      "fib 耗時：0.0000 秒\n",
      "fib 耗時：0.0000 秒\n",
      "fib 耗時：0.0000 秒\n",
      "fib 耗時：0.0000 秒\n",
      "fib 耗時：0.0000 秒\n",
      "fib 耗時：0.0000 秒\n",
      "fib 耗時：0.0000 秒\n",
      "fib 耗時：0.0000 秒\n",
      "fib 耗時：0.0000 秒\n",
      "fib 耗時：0.0000 秒\n",
      "fib 耗時：0.0000 秒\n",
      "fib 耗時：0.0000 秒\n",
      "fib 耗時：0.0000 秒\n",
      "fib 耗時：0.0000 秒\n",
      "fib 耗時：0.0000 秒\n",
      "fib 耗時：0.0000 秒\n",
      "fib 耗時：0.0000 秒\n",
      "fib 耗時：0.0000 秒\n",
      "fib 耗時：0.0000 秒\n",
      "fib 耗時：0.0000 秒\n",
      "fib 耗時：0.0000 秒\n",
      "fib 耗時：0.0000 秒\n",
      "fib 耗時：0.0000 秒\n",
      "fib 耗時：0.0000 秒\n",
      "fib 耗時：0.0000 秒\n",
      "fib 耗時：0.0000 秒\n",
      "fib 耗時：0.0000 秒\n",
      "fib 耗時：0.0000 秒\n",
      "fib 耗時：0.0000 秒\n",
      "fib 耗時：0.0000 秒\n",
      "fib 耗時：0.0000 秒\n",
      "fib 耗時：0.0000 秒\n",
      "fib 耗時：0.0000 秒\n",
      "fib 耗時：0.0000 秒\n",
      "fib 耗時：0.0000 秒\n",
      "fib 耗時：0.0000 秒\n",
      "fib 耗時：0.0000 秒\n",
      "fib 耗時：0.0000 秒\n",
      "fib 耗時：0.0000 秒\n",
      "fib 耗時：0.0000 秒\n",
      "fib 耗時：0.0000 秒\n",
      "fib 耗時：0.0010 秒\n",
      "fib 耗時：0.0000 秒\n",
      "fib 耗時：0.0000 秒\n",
      "fib 耗時：0.0000 秒\n",
      "fib 耗時：0.0000 秒\n",
      "fib 耗時：0.0000 秒\n",
      "fib 耗時：0.0000 秒\n",
      "fib 耗時：0.0000 秒\n",
      "fib 耗時：0.0000 秒\n",
      "fib 耗時：0.0000 秒\n",
      "fib 耗時：0.0000 秒\n",
      "fib 耗時：0.0000 秒\n",
      "fib 耗時：0.0000 秒\n",
      "fib 耗時：0.0000 秒\n",
      "fib 耗時：0.0000 秒\n",
      "fib 耗時：0.0000 秒\n",
      "fib 耗時：0.0000 秒\n",
      "fib 耗時：0.0000 秒\n",
      "fib 耗時：0.0000 秒\n",
      "fib 耗時：0.0000 秒\n",
      "fib 耗時：0.0000 秒\n",
      "fib 耗時：0.0000 秒\n",
      "fib 耗時：0.0000 秒\n",
      "fib 耗時：0.0000 秒\n",
      "fib 耗時：0.0000 秒\n",
      "fib 耗時：0.0000 秒\n",
      "fib 耗時：0.0000 秒\n",
      "fib 耗時：0.0000 秒\n",
      "fib 耗時：0.0000 秒\n",
      "fib 耗時：0.0000 秒\n",
      "fib 耗時：0.0000 秒\n",
      "fib 耗時：0.0000 秒\n",
      "fib 耗時：0.0000 秒\n",
      "fib 耗時：0.0000 秒\n",
      "fib 耗時：0.0000 秒\n",
      "fib 耗時：0.0000 秒\n",
      "fib 耗時：0.0000 秒\n",
      "fib 耗時：0.0000 秒\n",
      "fib 耗時：0.0000 秒\n",
      "fib 耗時：0.0000 秒\n",
      "fib 耗時：0.0000 秒\n",
      "fib 耗時：0.0010 秒\n",
      "fib 耗時：0.0000 秒\n",
      "fib 耗時：0.0000 秒\n",
      "fib 耗時：0.0000 秒\n",
      "fib 耗時：0.0000 秒\n",
      "fib 耗時：0.0000 秒\n",
      "fib 耗時：0.0000 秒\n",
      "fib 耗時：0.0000 秒\n",
      "fib 耗時：0.0000 秒\n",
      "fib 耗時：0.0000 秒\n",
      "fib 耗時：0.0000 秒\n",
      "fib 耗時：0.0000 秒\n",
      "fib 耗時：0.0000 秒\n",
      "fib 耗時：0.0000 秒\n",
      "fib 耗時：0.0000 秒\n",
      "fib 耗時：0.0000 秒\n",
      "fib 耗時：0.0000 秒\n",
      "fib 耗時：0.0000 秒\n",
      "fib 耗時：0.0000 秒\n",
      "fib 耗時：0.0000 秒\n",
      "fib 耗時：0.0000 秒\n",
      "fib 耗時：0.0000 秒\n",
      "fib 耗時：0.0000 秒\n",
      "fib 耗時：0.0000 秒\n",
      "fib 耗時：0.0000 秒\n",
      "fib 耗時：0.0000 秒\n",
      "fib 耗時：0.0010 秒\n",
      "fib 耗時：0.0020 秒\n",
      "55\n"
     ]
    }
   ],
   "source": [
    "import time\n",
    "\n",
    "\n",
    "def timer(func):\n",
    "    def wrapper(*args, **kwargs):\n",
    "        start = time.time()\n",
    "        result = func(*args, **kwargs)\n",
    "        elapsed = time.time() - start\n",
    "        print(f\"{func.__name__} 耗時：{elapsed:.4f} 秒\")\n",
    "        return result\n",
    "\n",
    "    return wrapper\n",
    "\n",
    "\n",
    "@timer\n",
    "def fib(n):\n",
    "    if n < 2:\n",
    "        return n\n",
    "    return fib(n - 1) + fib(n - 2)\n",
    "\n",
    "\n",
    "print(fib(10))\n"
   ]
  },
  {
   "cell_type": "markdown",
   "metadata": {},
   "source": [
    "## 4. 帶參數的裝飾器\n",
    "- 如果要讓裝飾器本身接受參數，需要再包一層函式："
   ]
  },
  {
   "cell_type": "code",
   "execution_count": 3,
   "metadata": {},
   "outputs": [
    {
     "name": "stdout",
     "output_type": "stream",
     "text": [
      "Hello, Alice!\n",
      "Hello, Alice!\n",
      "Hello, Alice!\n"
     ]
    }
   ],
   "source": [
    "def repeat(times):\n",
    "    def decorator(func):\n",
    "        def wrapper(*args, **kwargs):\n",
    "            for _ in range(times):\n",
    "                func(*args, **kwargs)\n",
    "\n",
    "        return wrapper\n",
    "\n",
    "    return decorator\n",
    "\n",
    "\n",
    "@repeat(times=3)\n",
    "def greet(name):\n",
    "    print(f\"Hello, {name}!\")\n",
    "\n",
    "\n",
    "greet(\"Alice\")  # 會印三次\n"
   ]
  },
  {
   "cell_type": "markdown",
   "metadata": {},
   "source": [
    "## 5. 堆疊多個裝飾器\n",
    "- 多個 `@` 裝飾器時，從上到下依序套用（底層到上層）："
   ]
  },
  {
   "cell_type": "code",
   "execution_count": 4,
   "metadata": {},
   "outputs": [
    {
     "name": "stdout",
     "output_type": "stream",
     "text": [
      "裝飾器 A 開始\n",
      "裝飾器 B 開始\n",
      "run func()\n",
      "裝飾器 B 結束\n",
      "裝飾器 A 結束\n"
     ]
    }
   ],
   "source": [
    "def decorator_a(func):\n",
    "    def wrapper(*args, **kwargs):\n",
    "        print(\"裝飾器 A 開始\")\n",
    "        result = func(*args, **kwargs)\n",
    "        print(\"裝飾器 A 結束\")\n",
    "        return result\n",
    "\n",
    "    return wrapper\n",
    "\n",
    "\n",
    "def decorator_b(func):\n",
    "    def wrapper(*args, **kwargs):\n",
    "        print(\"裝飾器 B 開始\")\n",
    "        result = func(*args, **kwargs)\n",
    "        print(\"裝飾器 B 結束\")\n",
    "        return result\n",
    "\n",
    "    return wrapper\n",
    "\n",
    "\n",
    "@decorator_a\n",
    "@decorator_b\n",
    "def func():\n",
    "    print(\"run func()\")\n",
    "\n",
    "\n",
    "# 等同於：func = decorator_a(decorator_b(func))\n",
    "func()"
   ]
  },
  {
   "cell_type": "markdown",
   "metadata": {},
   "source": [
    "## 6. 使用 `functools.wraps`\n",
    "- 為了保留原函式的名稱、文件字串（`__doc__`）等屬性，建議在 `wrapper` 上加上 `@functools.wraps(func)`："
   ]
  },
  {
   "cell_type": "code",
   "execution_count": 5,
   "metadata": {},
   "outputs": [
    {
     "name": "stdout",
     "output_type": "stream",
     "text": [
      "run func()\n"
     ]
    }
   ],
   "source": [
    "import functools\n",
    "\n",
    "\n",
    "def decorator(func):\n",
    "    @functools.wraps(func)\n",
    "    def wrapper(*args, **kwargs):\n",
    "        \"\"\"wrapper 的 docstring\"\"\"\n",
    "        return func(*args, **kwargs)\n",
    "\n",
    "    return wrapper\n",
    "\n",
    "\n",
    "@decorator\n",
    "def func():\n",
    "    print(\"run func()\")\n",
    "    \n",
    "func()"
   ]
  },
  {
   "cell_type": "markdown",
   "metadata": {},
   "source": [
    "## 7. 類別裝飾器\n",
    "- 裝飾類別時，裝飾器接收並返回一個類別："
   ]
  },
  {
   "cell_type": "code",
   "execution_count": 6,
   "metadata": {},
   "outputs": [
    {
     "name": "stdout",
     "output_type": "stream",
     "text": [
      "True\n"
     ]
    }
   ],
   "source": [
    "def singleton(cls):\n",
    "    instances = {}\n",
    "\n",
    "    def get_instance(*args, **kwargs):\n",
    "        if cls not in instances:\n",
    "            instances[cls] = cls(*args, **kwargs)\n",
    "        return instances[cls]\n",
    "\n",
    "    return get_instance\n",
    "\n",
    "\n",
    "@singleton\n",
    "class MyClass:\n",
    "    pass\n",
    "\n",
    "\n",
    "a = MyClass()\n",
    "b = MyClass()\n",
    "print(a is b)\n",
    "assert a is b"
   ]
  },
  {
   "cell_type": "markdown",
   "metadata": {},
   "source": [
    "## 8. 實用建議\n",
    "\n",
    "1. 命名清晰：裝飾器本身與包裹函式都要有清楚命名，利於除錯。\n",
    "\n",
    "2. 保留原函式元資料：使用 `@functools.wraps`。\n",
    "\n",
    "3. 避免副作用：裝飾器應盡量不要修改輸入參數或全域狀態，除非刻意設計。\n",
    "\n",
    "4. 測試覆蓋：為裝飾器與被裝飾函式各寫測試，確保功能正確。"
   ]
  }
 ],
 "metadata": {
  "kernelspec": {
   "display_name": "Python 3",
   "language": "python",
   "name": "python3"
  },
  "language_info": {
   "codemirror_mode": {
    "name": "ipython",
    "version": 3
   },
   "file_extension": ".py",
   "mimetype": "text/x-python",
   "name": "python",
   "nbconvert_exporter": "python",
   "pygments_lexer": "ipython3",
   "version": "3.10.16"
  }
 },
 "nbformat": 4,
 "nbformat_minor": 2
}
