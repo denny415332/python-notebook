{
 "cells": [
  {
   "cell_type": "markdown",
   "metadata": {},
   "source": [
    "## Python `Protocol` 類別\n",
    "\n",
    "在 Python 中，`Protocol` 類別（定義於 `typing` 模組中）是用來支援「結構型子類型檢查」（structural subtyping，也有人稱作靜態的「Duck Typing」）的一種工具。它讓你可以像定義傳統的介面（interface）一樣，宣告一組方法與屬性，只要某個物件「形狀吻合」── 也就是擁有這些方法與屬性── 就會被視為符合該 Protocol，而不必在繼承樹上有明確的繼承關係。"
   ]
  },
  {
   "cell_type": "markdown",
   "metadata": {
    "vscode": {
     "languageId": "plaintext"
    }
   },
   "source": [
    "### 主要特點\n",
    "\n",
    "- **結構型檢查**  \n",
    "  不需要明確繼承，只要物件實現了 Protocol 中宣告的所有成員，就可認定為符合該介面。  \n",
    "- **靜態類型檢查**  \n",
    "  在使用 `mypy`、`Pyright` 等靜態檢查工具時，可以針對 Protocol 做型別檢查。  \n",
    "- **可選的執行時檢查**  \n",
    "  搭配 `@runtime_checkable`，可於執行時透過 `isinstance(obj, SomeProtocol)` 做簡易檢查（僅限方法／屬性存在性檢測）。"
   ]
  },
  {
   "cell_type": "markdown",
   "metadata": {},
   "source": [
    "### 範例"
   ]
  },
  {
   "cell_type": "code",
   "execution_count": 1,
   "metadata": {},
   "outputs": [
    {
     "name": "stdout",
     "output_type": "stream",
     "text": [
      "FileLike write(): b'data'\n",
      "isinstance(f, ReaderWriter): True\n",
      "isinstance(f, SupportsClose): False\n"
     ]
    }
   ],
   "source": [
    "from typing import Protocol, runtime_checkable\n",
    "\n",
    "\n",
    "# 定義一個 Protocol，宣告需要有 'read' 與 'write' 方法\n",
    "@runtime_checkable\n",
    "class ReaderWriter(Protocol):\n",
    "    def read(self, n: int) -> bytes: ...\n",
    "\n",
    "    def write(self, data: bytes) -> int: ...\n",
    "\n",
    "\n",
    "# 任意類別，只要實作了 read 與 write，就「形狀吻合」\n",
    "class FileLike:\n",
    "    def read(self, n: int) -> bytes:\n",
    "        return b\"data\"\n",
    "\n",
    "    def write(self, data: bytes) -> int:\n",
    "        print(f\"FileLike write(): {data}\")\n",
    "        return len(data)\n",
    "\n",
    "\n",
    "def process(rw: ReaderWriter) -> None:\n",
    "    chunk = rw.read(1024)\n",
    "    rw.write(chunk)\n",
    "\n",
    "\n",
    "f = FileLike()\n",
    "process(f)  # 不用繼承，也能通過靜態檢查與運行\n",
    "\n",
    "\n",
    "# 執行時檢查示範\n",
    "@runtime_checkable\n",
    "class SupportsClose(Protocol):\n",
    "    def close(self) -> None: ...\n",
    "\n",
    "\n",
    "class NoClose:\n",
    "    pass\n",
    "\n",
    "\n",
    "# 靜態檢查有效，但執行時為 False\n",
    "print(f\"isinstance(f, ReaderWriter): {isinstance(f, ReaderWriter)}\")\n",
    "# 執行時檢查\n",
    "print(f\"isinstance(f, SupportsClose): {isinstance(f, SupportsClose)}\")  # False"
   ]
  },
  {
   "cell_type": "markdown",
   "metadata": {},
   "source": [
    "### 何時使用 Protocol？\n",
    "\n",
    "- 需要定義「只要形狀吻合就可以使用」的介面（例如各種檔案-或網路-類似物件）。\n",
    "\n",
    "- 希望靜態型別檢查工具能對不同類別進行統一的介面檢查，卻不想強制它們繼承同一個基底。\n",
    "\n",
    "- 想要更細緻地表達函式參數或回傳值要求的「結構」而非「命名繼承」。"
   ]
  },
  {
   "cell_type": "markdown",
   "metadata": {},
   "source": [
    "Protocol 是 PEP 544 所引入的特性，自 Python 3.8 起可使用，屬於進階型別提示工具箱中的重要一員。"
   ]
  }
 ],
 "metadata": {
  "kernelspec": {
   "display_name": "Python 3",
   "language": "python",
   "name": "python3"
  },
  "language_info": {
   "codemirror_mode": {
    "name": "ipython",
    "version": 3
   },
   "file_extension": ".py",
   "mimetype": "text/x-python",
   "name": "python",
   "nbconvert_exporter": "python",
   "pygments_lexer": "ipython3",
   "version": "3.10.16"
  }
 },
 "nbformat": 4,
 "nbformat_minor": 2
}
