{
 "cells": [
  {
   "cell_type": "code",
   "execution_count": 3,
   "metadata": {},
   "outputs": [],
   "source": [
    "from typing import Callable, Generic, TypeVar\n",
    "\n",
    "# 定義回呼函式的輸入與輸出類型\n",
    "T = TypeVar(\"T\")  # 回呼函式的輸入類型\n",
    "R = TypeVar(\"R\")  # 回呼函式的回傳值類型\n",
    "\n",
    "\n",
    "class EventHandler(Generic[T, R]):\n",
    "    \"\"\"事件處理器\"\"\"\n",
    "\n",
    "    def __init__(self) -> None:\n",
    "        # 存儲事件與其對應的回呼函式\n",
    "        self._callbacks: list[Callable[[T], R]] = []\n",
    "\n",
    "        # 使用 TypeVar 的 __bound__ 屬性來儲存類型資訊\n",
    "        self._input_type = T.__bound__ if hasattr(T, \"__bound__\") else object\n",
    "        self._output_type = R.__bound__ if hasattr(R, \"__bound__\") else object\n",
    "\n",
    "    def register(self, cb: Callable[[T], R]) -> None:\n",
    "        \"\"\"註冊回調函數\n",
    "\n",
    "        Args:\n",
    "            cb (Callable[[T], R]): 回調函數\n",
    "        \"\"\"\n",
    "        self._callbacks.append(cb)\n",
    "\n",
    "    def unregister(self, cb: Callable[[T], R]) -> None:\n",
    "        \"\"\"取消註冊回調函數\n",
    "\n",
    "        Args:\n",
    "            cb (Callable[[T], R]): 回調函數\n",
    "        \"\"\"\n",
    "        self._callbacks.remove(cb)\n",
    "\n",
    "    def unregister_all(self) -> None:\n",
    "        \"\"\"取消所有回調函數\"\"\"\n",
    "        self._callbacks.clear()\n",
    "\n",
    "    def trigger(self, *args: T, **kwargs: T) -> None:\n",
    "        \"\"\"觸發所有回調函數\n",
    "\n",
    "        Args:\n",
    "            *args(T): 可變數量的位置參數，例如 trigger(1, 2, 3) 中的 1, 2, 3\n",
    "            **kwargs(T): 可變數量的關鍵字參數，例如 trigger(x=1, y=2) 中的 x=1, y=2\n",
    "        \"\"\"\n",
    "        for cb in self._callbacks:\n",
    "            cb(*args, **kwargs)\n"
   ]
  },
  {
   "cell_type": "code",
   "execution_count": 6,
   "metadata": {},
   "outputs": [
    {
     "name": "stdout",
     "output_type": "stream",
     "text": [
      "input_type: None\n",
      "output_type: None\n",
      "處理器1: (1,) {'x': 2}\n"
     ]
    }
   ],
   "source": [
    "from typing import Any\n",
    "\n",
    "\n",
    "def test_handler1(*args, **kwargs):\n",
    "    print(\"處理器1:\", args, kwargs)\n",
    "\n",
    "\n",
    "# 創建事件處理器實例\n",
    "event_handler = EventHandler[Any, Any]()\n",
    "print(f\"input_type: {event_handler._input_type}\")\n",
    "print(f\"output_type: {event_handler._output_type}\")\n",
    "\n",
    "# 註冊處理器\n",
    "event_handler.register(test_handler1)\n",
    "\n",
    "# 測試觸發\n",
    "event_handler.trigger(1, x=2)  # 觸發所有處理器"
   ]
  },
  {
   "cell_type": "code",
   "execution_count": 7,
   "metadata": {},
   "outputs": [
    {
     "name": "stdout",
     "output_type": "stream",
     "text": [
      "處理器3: (1, 2.0)\n",
      "處理器4: (1, 2.0)\n",
      "處理器3: (3, 4.0)\n",
      "處理器4: (3, 4.0)\n",
      "處理器3: (5, 6.0)\n",
      "處理器4: (5, 6.0)\n"
     ]
    }
   ],
   "source": [
    "def test_handler3(data: tuple[int, float]) -> None:\n",
    "    print(\"處理器3:\", data)\n",
    "\n",
    "\n",
    "def test_handler4(data: tuple[int, float]) -> None:\n",
    "    print(\"處理器4:\", data)\n",
    "\n",
    "\n",
    "# 創建新的事件處理器實例\n",
    "event_handler2 = EventHandler[tuple[int, float], None]()\n",
    "\n",
    "# 註冊處理器\n",
    "event_handler2.register(test_handler3)\n",
    "event_handler2.register(test_handler4)\n",
    "\n",
    "# 測試觸發\n",
    "test_data1 = (1, 2.0)\n",
    "test_data2 = (3, 4.0)\n",
    "test_data3 = (5, 6.0)\n",
    "\n",
    "event_handler2.trigger(test_data1)  # 觸發所有處理器\n",
    "event_handler2.trigger(test_data2)  # 觸發特定處理器\n",
    "event_handler2.trigger(test_data3)  # 觸發特定處理器"
   ]
  }
 ],
 "metadata": {
  "kernelspec": {
   "display_name": "Python 3",
   "language": "python",
   "name": "python3"
  },
  "language_info": {
   "codemirror_mode": {
    "name": "ipython",
    "version": 3
   },
   "file_extension": ".py",
   "mimetype": "text/x-python",
   "name": "python",
   "nbconvert_exporter": "python",
   "pygments_lexer": "ipython3",
   "version": "3.10.16"
  }
 },
 "nbformat": 4,
 "nbformat_minor": 2
}
