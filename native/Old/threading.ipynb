{
 "cells": [
  {
   "cell_type": "code",
   "execution_count": 1,
   "metadata": {},
   "outputs": [],
   "source": [
    "import threading\n",
    "import time"
   ]
  },
  {
   "cell_type": "code",
   "execution_count": 2,
   "metadata": {},
   "outputs": [],
   "source": [
    "def aa():\n",
    "    i = 0\n",
    "    while i < 5:\n",
    "        i = i + 1\n",
    "        time.sleep(0.5)\n",
    "        print(\"A:\", i)\n",
    "\n",
    "\n",
    "def bb():\n",
    "    i = 0\n",
    "    while i < 100:\n",
    "        i = i + 10\n",
    "        time.sleep(0.5)\n",
    "        print(\"B:\", i)\n",
    "\n",
    "\n",
    "def cc():\n",
    "    i = 0\n",
    "    while i < 500:\n",
    "        i = i + 100\n",
    "        time.sleep(0.5)\n",
    "        print(\"C:\", i)"
   ]
  },
  {
   "cell_type": "code",
   "execution_count": 3,
   "metadata": {},
   "outputs": [
    {
     "name": "stdout",
     "output_type": "stream",
     "text": [
      "A: 1\n",
      "B: 10\n",
      "A:B: 20\n",
      " 2\n",
      "B: 30\n",
      "A: 3\n",
      "B:A: 4\n",
      " 40\n",
      "A:B: 50\n",
      " 5\n"
     ]
    },
    {
     "name": "stdout",
     "output_type": "stream",
     "text": [
      "C: 100\n",
      "B: 60\n",
      "C:B: 70\n",
      " 200\n",
      "C:B: 80\n",
      " 300\n",
      "C:B: 90\n",
      " 400\n",
      "C:B: 100\n",
      " 500\n"
     ]
    }
   ],
   "source": [
    "a = threading.Thread(target=aa)\n",
    "b = threading.Thread(target=bb)\n",
    "c = threading.Thread(target=cc)\n",
    "\n",
    "a.start()\n",
    "b.start()\n",
    "a.join()  # 加入等待 aa() 完成的方法\n",
    "c.start()  # 當 aa() 完成後，就會開始執行 cc()"
   ]
  },
  {
   "cell_type": "code",
   "execution_count": null,
   "metadata": {},
   "outputs": [],
   "source": [
    "\n"
   ]
  }
 ],
 "metadata": {
  "kernelspec": {
   "display_name": "venv",
   "language": "python",
   "name": "python3"
  },
  "language_info": {
   "codemirror_mode": {
    "name": "ipython",
    "version": 3
   },
   "file_extension": ".py",
   "mimetype": "text/x-python",
   "name": "python",
   "nbconvert_exporter": "python",
   "pygments_lexer": "ipython3",
   "version": "3.10.15"
  }
 },
 "nbformat": 4,
 "nbformat_minor": 2
}
