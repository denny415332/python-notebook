{
 "cells": [
  {
   "cell_type": "code",
   "execution_count": 1,
   "metadata": {},
   "outputs": [],
   "source": [
    "from typing import Callable, Any"
   ]
  },
  {
   "cell_type": "code",
   "execution_count": 2,
   "metadata": {},
   "outputs": [],
   "source": [
    "def base_decorator_fun(run_func: Callable[..., Any]):\n",
    "    \"\"\"基礎裝飾器\n",
    "\n",
    "    Args:\n",
    "        run_func (Callable[..., Any]): 要執行的函數\n",
    "\n",
    "    Returns:\n",
    "        Callable[..., Any]: 裝飾後的函數\n",
    "    \"\"\"\n",
    "\n",
    "    def decorator(func: Callable[..., Any]) -> Callable[..., Any]:\n",
    "        def wrapper(*args: Any, **kwargs: Any) -> Any:\n",
    "            print(\"before\")\n",
    "            run_func()\n",
    "            print(\"after\")\n",
    "\n",
    "            return func(*args, **kwargs)\n",
    "\n",
    "        return wrapper\n",
    "\n",
    "    return decorator"
   ]
  },
  {
   "cell_type": "code",
   "execution_count": 3,
   "metadata": {},
   "outputs": [],
   "source": [
    "def test_fun():\n",
    "    print(\"test\")\n",
    "\n",
    "\n",
    "def decorator_fun() -> Callable[..., Any]:\n",
    "    \"\"\"基礎裝飾器\n",
    "\n",
    "    Returns:\n",
    "        Callable[..., Any]: 裝飾後的函數\n",
    "    \"\"\"\n",
    "    return base_decorator_fun(test_fun)\n"
   ]
  },
  {
   "cell_type": "code",
   "execution_count": 4,
   "metadata": {},
   "outputs": [
    {
     "name": "stdout",
     "output_type": "stream",
     "text": [
      "before\n",
      "test\n",
      "after\n",
      "test decorator\n"
     ]
    }
   ],
   "source": [
    "@decorator_fun()\n",
    "def test_decorator():\n",
    "    print(\"test decorator\")\n",
    "\n",
    "\n",
    "test_decorator()\n"
   ]
  }
 ],
 "metadata": {
  "kernelspec": {
   "display_name": "Python 3",
   "language": "python",
   "name": "python3"
  },
  "language_info": {
   "codemirror_mode": {
    "name": "ipython",
    "version": 3
   },
   "file_extension": ".py",
   "mimetype": "text/x-python",
   "name": "python",
   "nbconvert_exporter": "python",
   "pygments_lexer": "ipython3",
   "version": "3.10.16"
  }
 },
 "nbformat": 4,
 "nbformat_minor": 2
}
