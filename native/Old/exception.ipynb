{
 "cells": [
  {
   "cell_type": "code",
   "execution_count": 1,
   "metadata": {},
   "outputs": [],
   "source": [
    "import traceback"
   ]
  },
  {
   "cell_type": "code",
   "execution_count": 2,
   "metadata": {},
   "outputs": [
    {
     "name": "stdout",
     "output_type": "stream",
     "text": [
      "('division by zero',)\n"
     ]
    }
   ],
   "source": [
    "try:\n",
    "    1 / 0\n",
    "except Exception as e:\n",
    "    print(e.args)"
   ]
  },
  {
   "cell_type": "code",
   "execution_count": 3,
   "metadata": {},
   "outputs": [
    {
     "name": "stdout",
     "output_type": "stream",
     "text": [
      "Traceback (most recent call last):\n",
      "  File \"C:\\Users\\kexian.kuo\\AppData\\Local\\Temp\\ipykernel_19232\\3382941329.py\", line 2, in <module>\n",
      "    1 / 0\n",
      "ZeroDivisionError: division by zero\n",
      "\n"
     ]
    }
   ],
   "source": [
    "try:\n",
    "    1 / 0\n",
    "except Exception as e:\n",
    "    msg = traceback.format_exc()\n",
    "    print(msg)"
   ]
  },
  {
   "cell_type": "code",
   "execution_count": 9,
   "metadata": {},
   "outputs": [
    {
     "name": "stdout",
     "output_type": "stream",
     "text": [
      "Traceback (most recent call last):\n",
      "  File \"C:\\Users\\kexian.kuo\\AppData\\Local\\Temp\\ipykernel_19232\\3444847083.py\", line 3, in <module>\n",
      "    1 / 0\n",
      "ZeroDivisionError: division by zero\n",
      "\n",
      "During handling of the above exception, another exception occurred:\n",
      "\n",
      "Traceback (most recent call last):\n",
      "  File \"C:\\Users\\kexian.kuo\\AppData\\Local\\Temp\\ipykernel_19232\\3444847083.py\", line 6, in <module>\n",
      "    raise Exception(\"TEST\").with_traceback(tb)\n",
      "  File \"C:\\Users\\kexian.kuo\\AppData\\Local\\Temp\\ipykernel_19232\\3444847083.py\", line 3, in <module>\n",
      "    1 / 0\n",
      "Exception: TEST\n",
      "\n"
     ]
    }
   ],
   "source": [
    "try:\n",
    "    try:\n",
    "        1 / 0\n",
    "    except Exception as e:\n",
    "        tb = e.__traceback__\n",
    "        raise Exception(\"TEST\").with_traceback(tb)\n",
    "except Exception as e:\n",
    "    msg = traceback.format_exc()\n",
    "    print(msg)\n"
   ]
  }
 ],
 "metadata": {
  "kernelspec": {
   "display_name": "Python 3",
   "language": "python",
   "name": "python3"
  },
  "language_info": {
   "codemirror_mode": {
    "name": "ipython",
    "version": 3
   },
   "file_extension": ".py",
   "mimetype": "text/x-python",
   "name": "python",
   "nbconvert_exporter": "python",
   "pygments_lexer": "ipython3",
   "version": "3.10.15"
  }
 },
 "nbformat": 4,
 "nbformat_minor": 2
}
