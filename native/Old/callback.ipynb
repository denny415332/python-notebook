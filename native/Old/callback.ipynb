{
 "cells": [
  {
   "cell_type": "code",
   "execution_count": 1,
   "metadata": {},
   "outputs": [],
   "source": [
    "from typing import Callable, Type, TypeVar, Generic\n",
    "\n",
    "T = TypeVar(\"T\")\n",
    "\n",
    "\n",
    "class Callback(Generic[T]):\n",
    "    \"\"\"回調函數類別，支援參數類型檢查\"\"\"\n",
    "\n",
    "    callback_type: Type[T]\n",
    "    callbacks: dict[str, Callable[..., T]] = {}\n",
    "\n",
    "    def __init__(self, callback_type: Type[T]):\n",
    "        \"\"\"初始化回調函數類別\n",
    "\n",
    "        Args:\n",
    "            callback_type (Type[T]): 回調函數的返回值類型\n",
    "        \"\"\"\n",
    "        self.callback_type = callback_type\n",
    "        self.callbacks: dict[str, Callable[..., T]] = {}\n",
    "\n",
    "    def register(self, event_name: str, handler: Callable[..., T] | None) -> None:\n",
    "        \"\"\"註冊回調函數\n",
    "\n",
    "        Args:\n",
    "            event_name: 事件名稱\n",
    "            handler: 回調函數，必須返回指定的類型\n",
    "        \"\"\"\n",
    "        if not callable(handler):\n",
    "            raise TypeError(\"Handler must be a callable function\")\n",
    "        self.callbacks[event_name] = handler\n",
    "\n",
    "    def unregister(self, event_name: str) -> None:\n",
    "        \"\"\"取消註冊回調函數\n",
    "\n",
    "        Args:\n",
    "            event_name: 要取消的事件名稱\n",
    "        \"\"\"\n",
    "        self.callbacks.pop(event_name, None)\n",
    "\n",
    "    def trigger(self, event_name: str, *args, **kwargs) -> T:\n",
    "        \"\"\"觸發回調函數\n",
    "\n",
    "        Args:\n",
    "            event_name: 要觸發的事件名稱\n",
    "            *args: 位置參數\n",
    "            **kwargs: 關鍵字參數\n",
    "\n",
    "        Returns:\n",
    "            回調函數的返回值，類型為初始化時指定的類型\n",
    "        \"\"\"\n",
    "        if event_name in self.callbacks:\n",
    "            result = self.callbacks[event_name](*args, **kwargs)\n",
    "            if hasattr(self.callback_type, \"__origin__\"):\n",
    "                # 處理泛型類型如 tuple[int, float]\n",
    "                if not isinstance(result, self.callback_type.__origin__):\n",
    "                    raise TypeError(\n",
    "                        f\"Return value must be of type {self.callback_type}\"\n",
    "                    )\n",
    "                # 檢查泛型參數類型\n",
    "                if len(result) != len(self.callback_type.__args__):\n",
    "                    raise TypeError(\n",
    "                        f\"Return value must contain {len(self.callback_type.__args__)} elements\"\n",
    "                    )\n",
    "                for val, expected_type in zip(result, self.callback_type.__args__):\n",
    "                    if not isinstance(val, expected_type):\n",
    "                        raise TypeError(\n",
    "                            f\"Return value elements must be of type {self.callback_type}\"\n",
    "                        )\n",
    "            else:\n",
    "                # 處理一般類型\n",
    "                if not isinstance(result, self.callback_type):\n",
    "                    raise TypeError(\n",
    "                        f\"Return value must be of type {self.callback_type}\"\n",
    "                    )\n",
    "            return result\n",
    "        else:\n",
    "            raise KeyError(f\"No callback found for event {event_name}\")"
   ]
  },
  {
   "cell_type": "code",
   "execution_count": 11,
   "metadata": {},
   "outputs": [
    {
     "data": {
      "text/plain": [
       "['__add__',\n",
       " '__class__',\n",
       " '__class_getitem__',\n",
       " '__contains__',\n",
       " '__delattr__',\n",
       " '__dir__',\n",
       " '__doc__',\n",
       " '__eq__',\n",
       " '__format__',\n",
       " '__ge__',\n",
       " '__getattribute__',\n",
       " '__getitem__',\n",
       " '__getnewargs__',\n",
       " '__gt__',\n",
       " '__hash__',\n",
       " '__init__',\n",
       " '__init_subclass__',\n",
       " '__iter__',\n",
       " '__le__',\n",
       " '__len__',\n",
       " '__lt__',\n",
       " '__mul__',\n",
       " '__ne__',\n",
       " '__new__',\n",
       " '__reduce__',\n",
       " '__reduce_ex__',\n",
       " '__repr__',\n",
       " '__rmul__',\n",
       " '__setattr__',\n",
       " '__sizeof__',\n",
       " '__str__',\n",
       " '__subclasshook__',\n",
       " 'count',\n",
       " 'index']"
      ]
     },
     "execution_count": 11,
     "metadata": {},
     "output_type": "execute_result"
    }
   ],
   "source": [
    "dir(tuple)"
   ]
  },
  {
   "cell_type": "code",
   "execution_count": 12,
   "metadata": {},
   "outputs": [
    {
     "data": {
      "text/plain": [
       "['__add__',\n",
       " '__args__',\n",
       " '__class__',\n",
       " '__class_getitem__',\n",
       " '__contains__',\n",
       " '__copy__',\n",
       " '__deepcopy__',\n",
       " '__delattr__',\n",
       " '__dir__',\n",
       " '__doc__',\n",
       " '__eq__',\n",
       " '__format__',\n",
       " '__ge__',\n",
       " '__getattribute__',\n",
       " '__getitem__',\n",
       " '__getnewargs__',\n",
       " '__gt__',\n",
       " '__hash__',\n",
       " '__init__',\n",
       " '__init_subclass__',\n",
       " '__iter__',\n",
       " '__le__',\n",
       " '__len__',\n",
       " '__lt__',\n",
       " '__mro_entries__',\n",
       " '__mul__',\n",
       " '__ne__',\n",
       " '__new__',\n",
       " '__origin__',\n",
       " '__parameters__',\n",
       " '__reduce__',\n",
       " '__reduce_ex__',\n",
       " '__repr__',\n",
       " '__rmul__',\n",
       " '__setattr__',\n",
       " '__sizeof__',\n",
       " '__str__',\n",
       " '__subclasshook__',\n",
       " 'count',\n",
       " 'index']"
      ]
     },
     "execution_count": 12,
     "metadata": {},
     "output_type": "execute_result"
    }
   ],
   "source": [
    "dir(tuple[int, float])"
   ]
  },
  {
   "cell_type": "code",
   "execution_count": 1,
   "metadata": {},
   "outputs": [
    {
     "name": "stdout",
     "output_type": "stream",
     "text": [
      "tuple\n",
      "<class 'tuple'>\n"
     ]
    }
   ],
   "source": [
    "print(tuple.__name__)\n",
    "print((tuple[int, float]).__origin__)"
   ]
  },
  {
   "cell_type": "code",
   "execution_count": 6,
   "metadata": {},
   "outputs": [
    {
     "ename": "TypeError",
     "evalue": "isinstance() argument 2 cannot be a parameterized generic",
     "output_type": "error",
     "traceback": [
      "\u001b[1;31m---------------------------------------------------------------------------\u001b[0m",
      "\u001b[1;31mTypeError\u001b[0m                                 Traceback (most recent call last)",
      "Cell \u001b[1;32mIn[6], line 5\u001b[0m\n\u001b[0;32m      3\u001b[0m on_click\u001b[38;5;241m.\u001b[39mregister(\u001b[38;5;124m\"\u001b[39m\u001b[38;5;124mclick\u001b[39m\u001b[38;5;124m\"\u001b[39m, \u001b[38;5;28;01mlambda\u001b[39;00m: \u001b[38;5;241m1\u001b[39m)\n\u001b[0;32m      4\u001b[0m on_click\u001b[38;5;241m.\u001b[39mregister(\u001b[38;5;124m\"\u001b[39m\u001b[38;5;124mclick\u001b[39m\u001b[38;5;124m\"\u001b[39m, \u001b[38;5;28;01mlambda\u001b[39;00m: \u001b[38;5;124m\"\u001b[39m\u001b[38;5;124m1\u001b[39m\u001b[38;5;124m\"\u001b[39m)\n\u001b[1;32m----> 5\u001b[0m \u001b[43mon_click\u001b[49m\u001b[38;5;241;43m.\u001b[39;49m\u001b[43mtrigger\u001b[49m\u001b[43m(\u001b[49m\u001b[38;5;124;43m\"\u001b[39;49m\u001b[38;5;124;43mclick\u001b[39;49m\u001b[38;5;124;43m\"\u001b[39;49m\u001b[43m)\u001b[49m\n",
      "Cell \u001b[1;32mIn[1], line 53\u001b[0m, in \u001b[0;36mCallback.trigger\u001b[1;34m(self, event_name, *args, **kwargs)\u001b[0m\n\u001b[0;32m     51\u001b[0m \u001b[38;5;28;01mif\u001b[39;00m event_name \u001b[38;5;129;01min\u001b[39;00m \u001b[38;5;28mself\u001b[39m\u001b[38;5;241m.\u001b[39mcallbacks:\n\u001b[0;32m     52\u001b[0m     result \u001b[38;5;241m=\u001b[39m \u001b[38;5;28mself\u001b[39m\u001b[38;5;241m.\u001b[39mcallbacks[event_name](\u001b[38;5;241m*\u001b[39margs, \u001b[38;5;241m*\u001b[39m\u001b[38;5;241m*\u001b[39mkwargs)\n\u001b[1;32m---> 53\u001b[0m     \u001b[38;5;28;01mif\u001b[39;00m \u001b[38;5;129;01mnot\u001b[39;00m \u001b[38;5;28;43misinstance\u001b[39;49m\u001b[43m(\u001b[49m\u001b[43mresult\u001b[49m\u001b[43m,\u001b[49m\u001b[43m \u001b[49m\u001b[38;5;28;43mself\u001b[39;49m\u001b[38;5;241;43m.\u001b[39;49m\u001b[43mcallback_type\u001b[49m\u001b[43m)\u001b[49m:\n\u001b[0;32m     54\u001b[0m         \u001b[38;5;28;01mraise\u001b[39;00m \u001b[38;5;167;01mTypeError\u001b[39;00m(\n\u001b[0;32m     55\u001b[0m             \u001b[38;5;124mf\u001b[39m\u001b[38;5;124m\"\u001b[39m\u001b[38;5;124m回調函數返回值類型必須是 \u001b[39m\u001b[38;5;132;01m{\u001b[39;00m\u001b[38;5;28mself\u001b[39m\u001b[38;5;241m.\u001b[39mcallback_type\u001b[38;5;241m.\u001b[39m\u001b[38;5;18m__name__\u001b[39m\u001b[38;5;132;01m}\u001b[39;00m\u001b[38;5;124m\"\u001b[39m\n\u001b[0;32m     56\u001b[0m         )\n\u001b[0;32m     57\u001b[0m     \u001b[38;5;28;01mreturn\u001b[39;00m result\n",
      "\u001b[1;31mTypeError\u001b[0m: isinstance() argument 2 cannot be a parameterized generic"
     ]
    }
   ],
   "source": [
    "on_click = Callback(tuple[int, float])\n",
    "\n",
    "on_click.register(\"click\", lambda: 1)\n",
    "on_click.register(\"click\", lambda: \"1\")\n",
    "on_click.trigger(\"click\")"
   ]
  }
 ],
 "metadata": {
  "kernelspec": {
   "display_name": "Python 3",
   "language": "python",
   "name": "python3"
  },
  "language_info": {
   "codemirror_mode": {
    "name": "ipython",
    "version": 3
   },
   "file_extension": ".py",
   "mimetype": "text/x-python",
   "name": "python",
   "nbconvert_exporter": "python",
   "pygments_lexer": "ipython3",
   "version": "3.10.16"
  }
 },
 "nbformat": 4,
 "nbformat_minor": 2
}
