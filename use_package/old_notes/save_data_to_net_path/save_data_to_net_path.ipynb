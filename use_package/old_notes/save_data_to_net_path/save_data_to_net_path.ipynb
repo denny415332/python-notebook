{
 "cells": [
  {
   "cell_type": "code",
   "execution_count": null,
   "metadata": {},
   "outputs": [
    {
     "name": "stdout",
     "output_type": "stream",
     "text": [
      "檔案已成功儲存至 \\\\TYOFS01P\\UserHome\\kexian.kuo\\example.txt\n"
     ]
    }
   ],
   "source": [
    "import os\n",
    "\n",
    "# 指定網路路徑，請注意使用 raw string 表示法\n",
    "network_path = r\"\\\\TYOFS01P\\UserHome\\kexian.kuo\"\n",
    "# network_path = r\"T:\\\\\"\n",
    "filename = \"example.txt\"\n",
    "\n",
    "# 組合完整的檔案路徑\n",
    "file_path = os.path.join(network_path, filename)\n",
    "\n",
    "try:\n",
    "    # 以寫入模式開啟檔案（如果檔案不存在會自動建立）\n",
    "    with open(file_path, \"w\", encoding=\"utf-8\") as f:\n",
    "        f.write(\"這是一個測試內容，儲存在網路位置！\")\n",
    "    print(f\"檔案已成功儲存至 {file_path}\")\n",
    "except Exception as e:\n",
    "    print(\"儲存檔案時發生錯誤：\", e)\n"
   ]
  }
 ],
 "metadata": {
  "kernelspec": {
   "display_name": "Python 3",
   "language": "python",
   "name": "python3"
  },
  "language_info": {
   "codemirror_mode": {
    "name": "ipython",
    "version": 3
   },
   "file_extension": ".py",
   "mimetype": "text/x-python",
   "name": "python",
   "nbconvert_exporter": "python",
   "pygments_lexer": "ipython3",
   "version": "3.10.16"
  }
 },
 "nbformat": 4,
 "nbformat_minor": 2
}
