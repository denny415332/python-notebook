{
 "cells": [
  {
   "cell_type": "code",
   "execution_count": 2,
   "metadata": {},
   "outputs": [
    {
     "name": "stdout",
     "output_type": "stream",
     "text": [
      "網路磁碟機資訊：\n",
      "會記錄新的網路連線。\n",
      "\n",
      "\n",
      "狀態       本機        遠端                    網路\n",
      "\n",
      "-------------------------------------------------------------------------------\n",
      "OK           H:        \\\\TYOFS01P\\UserHome\\kexian.kuo \n",
      "                                                Microsoft Windows Network\n",
      "             T:        \\\\TYOFS01P\\fs             Microsoft Windows Network\n",
      "OK                     \\\\TYOFS01P\\UserHome       Microsoft Windows Network\n",
      "命令已經成功完成。\n",
      "\n",
      "\n"
     ]
    }
   ],
   "source": [
    "import subprocess\n",
    "\n",
    "\n",
    "def get_network_drives():\n",
    "    try:\n",
    "        # 執行 net use 命令，取得原始位元組輸出\n",
    "        output_bytes = subprocess.check_output(\"net use\", shell=True)\n",
    "        # 使用 CP950 編碼解碼（繁體中文 Windows 常用編碼）\n",
    "        output_str = output_bytes.decode(\"cp950\", errors=\"replace\")\n",
    "        return output_str\n",
    "    except subprocess.CalledProcessError as e:\n",
    "        print(\"執行 net use 命令時發生錯誤：\", e)\n",
    "        return None\n",
    "\n",
    "\n",
    "if __name__ == \"__main__\":\n",
    "    network_drives_output = get_network_drives()\n",
    "    if network_drives_output:\n",
    "        print(\"網路磁碟機資訊：\")\n",
    "        print(network_drives_output)\n"
   ]
  }
 ],
 "metadata": {
  "kernelspec": {
   "display_name": "Python 3",
   "language": "python",
   "name": "python3"
  },
  "language_info": {
   "codemirror_mode": {
    "name": "ipython",
    "version": 3
   },
   "file_extension": ".py",
   "mimetype": "text/x-python",
   "name": "python",
   "nbconvert_exporter": "python",
   "pygments_lexer": "ipython3",
   "version": "3.10.16"
  }
 },
 "nbformat": 4,
 "nbformat_minor": 2
}
