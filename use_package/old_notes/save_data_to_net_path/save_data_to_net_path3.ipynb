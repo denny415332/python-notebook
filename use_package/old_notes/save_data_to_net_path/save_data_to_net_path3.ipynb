{
 "cells": [
  {
   "cell_type": "code",
   "execution_count": 2,
   "metadata": {},
   "outputs": [
    {
     "name": "stdout",
     "output_type": "stream",
     "text": [
      "Objects of type 'WindowsPath' can not be converted to Unicode.\n"
     ]
    }
   ],
   "source": [
    "import win32wnet\n",
    "from pathlib import Path\n",
    "\n",
    "remote_path = Path(r\"\\\\TYOFS01P\\UserHome\\kexian.kuo\")\n",
    "user = \"kexian.kuo\"\n",
    "password = \"Kk95090415332\"\n",
    "\n",
    "try:\n",
    "    win32wnet.WNetAddConnection2(0, None, remote_path, None, user, password)\n",
    "    # 這樣就等同於「掛載」了\n",
    "except Exception as e:\n",
    "    print(e)\n",
    "\n",
    "# 接著就能直接存取該路徑\n",
    "with open(remote_path / \"test.txt\", \"w\", encoding=\"utf-8\") as f:\n",
    "    f.write(\"Hello World!\")"
   ]
  }
 ],
 "metadata": {
  "kernelspec": {
   "display_name": "Python 3",
   "language": "python",
   "name": "python3"
  },
  "language_info": {
   "codemirror_mode": {
    "name": "ipython",
    "version": 3
   },
   "file_extension": ".py",
   "mimetype": "text/x-python",
   "name": "python",
   "nbconvert_exporter": "python",
   "pygments_lexer": "ipython3",
   "version": "3.10.16"
  }
 },
 "nbformat": 4,
 "nbformat_minor": 2
}
