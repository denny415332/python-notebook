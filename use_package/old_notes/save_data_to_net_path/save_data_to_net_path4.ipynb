{
 "cells": [
  {
   "cell_type": "code",
   "execution_count": 1,
   "metadata": {},
   "outputs": [
    {
     "name": "stdout",
     "output_type": "stream",
     "text": [
      "檔案已成功儲存至 \\\\TYOFS01P\\UserHome\\kexian.kuo\\example.txt\n"
     ]
    }
   ],
   "source": [
    "import os\n",
    "import win32wnet\n",
    "\n",
    "# 1. 設定網路分享路徑與帳密\n",
    "remote_path = r\"\\\\TYOFS01P\\UserHome\\kexian.kuo\"  # 你的網路路徑\n",
    "user = r\"YOUNGOPTICS\\kexian.kuo\"  # 如果是網域帳號，需加上網域；若非網域環境可只填使用者名稱\n",
    "password = \"Kk95090415332\"\n",
    "\n",
    "filename = \"example.txt\"\n",
    "file_path = os.path.join(remote_path, filename)\n",
    "\n",
    "try:\n",
    "    # 2. 動態連線到網路分享位置\n",
    "    win32wnet.WNetAddConnection2(0, None, remote_path, None, user, password)\n",
    "\n",
    "    # 3. 寫檔到網路路徑\n",
    "    with open(file_path, \"w\", encoding=\"utf-8\") as f:\n",
    "        f.write(\"這是一個測試內容，儲存在網路位置！\")\n",
    "    print(f\"檔案已成功儲存至 {file_path}\")\n",
    "\n",
    "except Exception as e:\n",
    "    print(\"儲存檔案時發生錯誤：\", e)\n",
    "\n",
    "finally:\n",
    "    # 4. 取消連線（可選，但通常建議做清理）\n",
    "    try:\n",
    "        win32wnet.WNetCancelConnection2(remote_path, 0, True)\n",
    "    except Exception as ex:\n",
    "        print(\"無法取消連線或連線已不存在：\", ex)\n"
   ]
  }
 ],
 "metadata": {
  "kernelspec": {
   "display_name": "Python 3",
   "language": "python",
   "name": "python3"
  },
  "language_info": {
   "codemirror_mode": {
    "name": "ipython",
    "version": 3
   },
   "file_extension": ".py",
   "mimetype": "text/x-python",
   "name": "python",
   "nbconvert_exporter": "python",
   "pygments_lexer": "ipython3",
   "version": "3.10.16"
  }
 },
 "nbformat": 4,
 "nbformat_minor": 2
}
