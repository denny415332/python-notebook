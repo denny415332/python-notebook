{
 "cells": [
  {
   "cell_type": "code",
   "execution_count": 2,
   "metadata": {},
   "outputs": [],
   "source": [
    "import pandas as pd\n",
    "\n",
    "# 創建一個簡單的 DataFrame\n",
    "df = pd.DataFrame({\"名字\": [\"小明\", \"小華\", \"小李\"], \"年齡\": [25, 30, 28]})\n",
    "# df.set_index(\"名字\", inplace=True)"
   ]
  },
  {
   "cell_type": "code",
   "execution_count": 14,
   "metadata": {},
   "outputs": [
    {
     "data": {
      "text/html": [
       "<div>\n",
       "<style scoped>\n",
       "    .dataframe tbody tr th:only-of-type {\n",
       "        vertical-align: middle;\n",
       "    }\n",
       "\n",
       "    .dataframe tbody tr th {\n",
       "        vertical-align: top;\n",
       "    }\n",
       "\n",
       "    .dataframe thead th {\n",
       "        text-align: right;\n",
       "    }\n",
       "</style>\n",
       "<table border=\"1\" class=\"dataframe\">\n",
       "  <thead>\n",
       "    <tr style=\"text-align: right;\">\n",
       "      <th></th>\n",
       "      <th>name</th>\n",
       "      <th>value</th>\n",
       "    </tr>\n",
       "  </thead>\n",
       "  <tbody>\n",
       "    <tr>\n",
       "      <th>0</th>\n",
       "      <td>a</td>\n",
       "      <td>10</td>\n",
       "    </tr>\n",
       "    <tr>\n",
       "      <th>1</th>\n",
       "      <td>b</td>\n",
       "      <td>20</td>\n",
       "    </tr>\n",
       "  </tbody>\n",
       "</table>\n",
       "</div>"
      ],
      "text/plain": [
       "  name  value\n",
       "0    a     10\n",
       "1    b     20"
      ]
     },
     "execution_count": 14,
     "metadata": {},
     "output_type": "execute_result"
    }
   ],
   "source": [
    "df = pd.read_csv(\"../original.csv\")\n",
    "df.reset_index(drop=True)"
   ]
  },
  {
   "cell_type": "code",
   "execution_count": null,
   "metadata": {},
   "outputs": [
    {
     "name": "stdout",
     "output_type": "stream",
     "text": [
      "原始 DataFrame：\n",
      "   名字  年齡\n",
      "0  小明  25\n",
      "1  小華  30\n",
      "2  小李  28\n",
      "\n",
      "第一筆資料：\n",
      "['小明', np.int64(25)]\n",
      "\n",
      "重設索引（保留原索引）：\n",
      "   index  名字  年齡\n",
      "0      0  小明  25\n",
      "1      1  小華  30\n",
      "2      2  小李  28\n",
      "\n",
      "重設索引後的第一筆資料：\n",
      "[np.int64(0), '小明', np.int64(25)]\n",
      "\n",
      "重設索引（丟棄原索引）：\n",
      "   名字  年齡\n",
      "0  小明  25\n",
      "1  小華  30\n",
      "2  小李  28\n",
      "\n",
      "重設索引（丟棄原索引）後的第一筆資料：\n",
      "['小明', np.int64(25)]\n"
     ]
    }
   ],
   "source": [
    "print(\"原始 DataFrame：\")\n",
    "print(df)\n",
    "print(\"\\n第一筆資料：\")\n",
    "print(df.iloc[0].tolist())\n",
    "\n",
    "# 重設索引，保留原索引為新欄位\n",
    "print(\"\\n重設索引（保留原索引）：\")\n",
    "print(df.reset_index())\n",
    "# 顯示重設索引後的第一筆資料\n",
    "print(\"\\n重設索引後的第一筆資料：\")\n",
    "print(df.reset_index().iloc[0].tolist())\n",
    "\n",
    "\n",
    "# 重設索引，丟棄原索引\n",
    "print(\"\\n重設索引（丟棄原索引）：\")\n",
    "print(df.reset_index(drop=True))\n",
    "print(\"\\n重設索引（丟棄原索引）後的第一筆資料：\")\n",
    "print(df.reset_index(drop=True).iloc[0].tolist())"
   ]
  }
 ],
 "metadata": {
  "kernelspec": {
   "display_name": "Python 3",
   "language": "python",
   "name": "python3"
  },
  "language_info": {
   "codemirror_mode": {
    "name": "ipython",
    "version": 3
   },
   "file_extension": ".py",
   "mimetype": "text/x-python",
   "name": "python",
   "nbconvert_exporter": "python",
   "pygments_lexer": "ipython3",
   "version": "3.10.16"
  }
 },
 "nbformat": 4,
 "nbformat_minor": 2
}
