{
 "cells": [
  {
   "cell_type": "code",
   "execution_count": 1,
   "metadata": {},
   "outputs": [
    {
     "name": "stdout",
     "output_type": "stream",
     "text": [
      "裝置 (UNC 路徑): H:\\\n",
      "掛載點 (磁碟代號): H:\\\n",
      "檔案系統類型: NTFS\n",
      "選項: rw,remote\n",
      "----------------------------------------\n",
      "裝置 (UNC 路徑): T:\\\n",
      "掛載點 (磁碟代號): T:\\\n",
      "檔案系統類型: NTFS\n",
      "選項: rw,remote\n",
      "----------------------------------------\n"
     ]
    }
   ],
   "source": [
    "import psutil\n",
    "\n",
    "# 取得所有已掛載的磁碟分割（含網路磁碟機）\n",
    "partitions = psutil.disk_partitions(all=True)\n",
    "\n",
    "for p in partitions:\n",
    "    # 若該分割區的選項 (opts) 中包含 'remote'，表示它是遠端（網路）磁碟\n",
    "    if \"remote\" in p.opts:\n",
    "        print(f\"裝置 (UNC 路徑): {p.device}\")\n",
    "        print(f\"掛載點 (磁碟代號): {p.mountpoint}\")\n",
    "        print(f\"檔案系統類型: {p.fstype}\")\n",
    "        print(f\"選項: {p.opts}\")\n",
    "        print(\"-\" * 40)\n"
   ]
  }
 ],
 "metadata": {
  "kernelspec": {
   "display_name": "Python 3",
   "language": "python",
   "name": "python3"
  },
  "language_info": {
   "codemirror_mode": {
    "name": "ipython",
    "version": 3
   },
   "file_extension": ".py",
   "mimetype": "text/x-python",
   "name": "python",
   "nbconvert_exporter": "python",
   "pygments_lexer": "ipython3",
   "version": "3.10.16"
  }
 },
 "nbformat": 4,
 "nbformat_minor": 2
}
