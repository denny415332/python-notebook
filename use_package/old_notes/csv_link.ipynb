{
 "cells": [
  {
   "cell_type": "code",
   "execution_count": 1,
   "metadata": {},
   "outputs": [],
   "source": [
    "import pandas as pd\n",
    "import csv"
   ]
  },
  {
   "cell_type": "code",
   "execution_count": 2,
   "metadata": {},
   "outputs": [],
   "source": [
    "# # 建立 DataFrame\n",
    "# df = pd.DataFrame({\"名稱\": [\"範例連結\"], \"連結\": [\"https://www.example.com\"]})\n",
    "\n",
    "# # 儲存為 CSV\n",
    "# df.to_csv(\"example.csv\", index=False)"
   ]
  },
  {
   "cell_type": "code",
   "execution_count": 3,
   "metadata": {},
   "outputs": [
    {
     "name": "stdout",
     "output_type": "stream",
     "text": [
      "CSV 檔案已儲存，請用 Excel 開啟查看超連結效果！\n"
     ]
    }
   ],
   "source": [
    "# 建立 DataFrame，使用 Excel 的 HYPERLINK 公式\n",
    "df = pd.DataFrame(\n",
    "    {\n",
    "        \"名稱\": [\"點擊這裡\"],\n",
    "        \"連結\": ['=HYPERLINK(\"https://www.example.com\", \"範例連結\")'],\n",
    "    }\n",
    ")\n",
    "\n",
    "# 儲存 CSV，確保公式格式正確\n",
    "# df.to_csv(\"example.csv\", index=False, encoding=\"utf-8\", quoting=csv.QUOTE_NONNUMERIC)\n",
    "df.to_csv(\"example.csv\", index=False, encoding=\"ANSI\", quoting=csv.QUOTE_NONNUMERIC)\n",
    "\n",
    "print(\"CSV 檔案已儲存，請用 Excel 開啟查看超連結效果！\")"
   ]
  },
  {
   "cell_type": "code",
   "execution_count": 4,
   "metadata": {},
   "outputs": [
    {
     "name": "stdout",
     "output_type": "stream",
     "text": [
      "CSV 檔案已儲存，請用 Excel 開啟查看超連結效果！\n"
     ]
    }
   ],
   "source": [
    "# 建立 DataFrame，使用 Excel 的 HYPERLINK 公式\n",
    "df = pd.DataFrame(\n",
    "    {\n",
    "        \"名稱\": [\"點擊這裡\"],\n",
    "        \"連結\": ['=HYPERLINK(\"https://www.example.com\", \"範例連結\")'],\n",
    "    }\n",
    ")\n",
    "\n",
    "# 儲存 CSV，確保公式格式正確\n",
    "# df.to_csv(\"example.csv\", index=False, encoding=\"utf-8\", quoting=csv.QUOTE_NONNUMERIC)\n",
    "df.to_csv(\"example.csv\", index=False, encoding=\"ANSI\", quoting=csv.QUOTE_NONNUMERIC)\n",
    "\n",
    "print(\"CSV 檔案已儲存，請用 Excel 開啟查看超連結效果！\")"
   ]
  },
  {
   "cell_type": "code",
   "execution_count": 7,
   "metadata": {},
   "outputs": [
    {
     "name": "stdout",
     "output_type": "stream",
     "text": [
      "     名稱                                                 連結\n",
      "0  點擊這裡  =HYPERLINK(\"\"https://www.example.com\"\", \"\"範例連結\"\")\n"
     ]
    }
   ],
   "source": [
    "df = pd.DataFrame(\n",
    "    {\n",
    "        \"名稱\": [\"點擊這裡\"],\n",
    "        \"連結\": ['=HYPERLINK(\"https://www.example.com\", \"範例連結\")'],\n",
    "    }\n",
    ")\n",
    "df[\"連結\"] = df[\"連結\"].str.replace('\"', '\"\"')\n",
    "print(df)\n",
    "\n",
    "df.to_csv(\n",
    "    \"example.csv\",\n",
    "    index=False,\n",
    "    encoding=\"utf-8\",\n",
    "    quoting=csv.QUOTE_NONE,\n",
    "    escapechar=\"\\\\\",\n",
    ")"
   ]
  }
 ],
 "metadata": {
  "kernelspec": {
   "display_name": "Python 3",
   "language": "python",
   "name": "python3"
  },
  "language_info": {
   "codemirror_mode": {
    "name": "ipython",
    "version": 3
   },
   "file_extension": ".py",
   "mimetype": "text/x-python",
   "name": "python",
   "nbconvert_exporter": "python",
   "pygments_lexer": "ipython3",
   "version": "3.10.16"
  }
 },
 "nbformat": 4,
 "nbformat_minor": 2
}
