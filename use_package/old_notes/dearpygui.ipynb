{
 "cells": [
  {
   "cell_type": "code",
   "execution_count": 3,
   "metadata": {},
   "outputs": [],
   "source": [
    "import dearpygui.dearpygui as dpg\n",
    "\n",
    "dpg.create_context()\n",
    "dpg.create_viewport(title=\"Custom Title\", width=600, height=300)\n",
    "\n",
    "with dpg.window(label=\"Example Windows\"):\n",
    "    dpg.add_text(\"Hello, World\")\n",
    "    dpg.add_button(label=\"Save\")\n",
    "    dpg.add_input_text(label=\"string\", default_value=\"Quick brown fox\")\n",
    "    dpg.add_slider_float(label=\"float\", default_value=0.273, max_value=1)\n",
    "\n",
    "dpg.setup_dearpygui()\n",
    "dpg.show_metrics()\n",
    "dpg.show_viewport()\n",
    "dpg.start_dearpygui()\n",
    "dpg.destroy_context()"
   ]
  },
  {
   "cell_type": "code",
   "execution_count": null,
   "metadata": {},
   "outputs": [],
   "source": [
    "import dearpygui.dearpygui as dpg\n",
    "import dearpygui.demo as demo\n",
    "\n",
    "dpg.create_context()\n",
    "dpg.create_viewport(title=\"Custom Title\", width=600, height=600)\n",
    "\n",
    "demo.show_demo()\n",
    "\n",
    "dpg.setup_dearpygui()\n",
    "dpg.show_metrics()\n",
    "dpg.show_viewport()\n",
    "dpg.start_dearpygui()\n",
    "dpg.destroy_context()"
   ]
  },
  {
   "cell_type": "code",
   "execution_count": null,
   "metadata": {},
   "outputs": [],
   "source": []
  }
 ],
 "metadata": {
  "kernelspec": {
   "display_name": "venv",
   "language": "python",
   "name": "python3"
  },
  "language_info": {
   "codemirror_mode": {
    "name": "ipython",
    "version": 3
   },
   "file_extension": ".py",
   "mimetype": "text/x-python",
   "name": "python",
   "nbconvert_exporter": "python",
   "pygments_lexer": "ipython3",
   "version": "3.10.15"
  }
 },
 "nbformat": 4,
 "nbformat_minor": 2
}
