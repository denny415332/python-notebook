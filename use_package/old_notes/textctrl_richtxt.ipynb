{
 "cells": [
  {
   "cell_type": "code",
   "execution_count": 1,
   "metadata": {},
   "outputs": [],
   "source": [
    "import wx\n",
    "\n",
    "\n",
    "class MyFrame(wx.Frame):\n",
    "    def __init__(self):\n",
    "        super().__init__(parent=None, title=\"TextCtrl 字體與顏色範例\", size=(400, 300))\n",
    "        panel = wx.Panel(self)\n",
    "\n",
    "        # 建立 TextCtrl 並啟用富文本支持\n",
    "        self.text_ctrl = wx.TextCtrl(\n",
    "            panel, style=wx.TE_MULTILINE | wx.TE_RICH2, size=(380, 250)\n",
    "        )\n",
    "\n",
    "        # 插入一些文字\n",
    "        self.text_ctrl.AppendText(\"這是一段普通的文字。\\n\")\n",
    "        self.text_ctrl.AppendText(\"這段文字將會改變顏色和字體。\\n\")\n",
    "        self.text_ctrl.AppendText(\"這是最後一段文字。\")\n",
    "\n",
    "        # 呼叫方法來改變特定文字的格式\n",
    "        self.change_text_style(\n",
    "            \"改變顏色和字體\",\n",
    "            wx.Colour(255, 0, 0),\n",
    "            wx.Font(12, wx.FONTFAMILY_DEFAULT, wx.FONTSTYLE_ITALIC, wx.FONTWEIGHT_BOLD),\n",
    "        )\n",
    "\n",
    "        self.Show()\n",
    "\n",
    "    def change_text_style(self, target_text, color, font):\n",
    "        content = self.text_ctrl.GetValue()\n",
    "        start = content.find(target_text)\n",
    "        if start != -1:\n",
    "            end = start + len(target_text)\n",
    "            attr = wx.TextAttr(color, wx.NullColour, font)\n",
    "            self.text_ctrl.SetStyle(start, end, attr)\n",
    "\n",
    "\n",
    "if __name__ == \"__main__\":\n",
    "    app = wx.App(False)\n",
    "    frame = MyFrame()\n",
    "    app.MainLoop()\n"
   ]
  }
 ],
 "metadata": {
  "kernelspec": {
   "display_name": "Python 3",
   "language": "python",
   "name": "python3"
  },
  "language_info": {
   "codemirror_mode": {
    "name": "ipython",
    "version": 3
   },
   "file_extension": ".py",
   "mimetype": "text/x-python",
   "name": "python",
   "nbconvert_exporter": "python",
   "pygments_lexer": "ipython3",
   "version": "3.10.16"
  }
 },
 "nbformat": 4,
 "nbformat_minor": 2
}
