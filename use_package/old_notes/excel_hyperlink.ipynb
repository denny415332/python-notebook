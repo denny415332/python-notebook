{
 "cells": [
  {
   "cell_type": "code",
   "execution_count": 1,
   "metadata": {},
   "outputs": [
    {
     "name": "stdout",
     "output_type": "stream",
     "text": [
      "Excel file with hyperlink created successfully!\n"
     ]
    }
   ],
   "source": [
    "from openpyxl import Workbook\n",
    "from openpyxl.utils import quote_sheetname\n",
    "\n",
    "# 創建一個新的 Excel 工作簿\n",
    "wb = Workbook()\n",
    "\n",
    "# 添加幾個工作表\n",
    "sheet1 = wb.active\n",
    "sheet1.title = \"MainSheet\"\n",
    "sheet2 = wb.create_sheet(\"TargetSheet\")\n",
    "\n",
    "# 在主工作表中插入超連結到目標工作表\n",
    "link_cell = sheet1.cell(row=1, column=1)\n",
    "link_cell.value = \"Go to TargetSheet\"\n",
    "# 格式為 '#目標工作表名稱!A1'，'A1' 為目標單元格\n",
    "link_cell.hyperlink = f\"#{quote_sheetname(sheet2.title)}!A1\"\n",
    "\n",
    "# 儲存檔案\n",
    "wb.save(\"example_with_hyperlink.xlsx\")\n",
    "\n",
    "print(\"Excel file with hyperlink created successfully!\")"
   ]
  },
  {
   "cell_type": "code",
   "execution_count": null,
   "metadata": {},
   "outputs": [],
   "source": []
  }
 ],
 "metadata": {
  "kernelspec": {
   "display_name": "Python 3",
   "language": "python",
   "name": "python3"
  },
  "language_info": {
   "codemirror_mode": {
    "name": "ipython",
    "version": 3
   },
   "file_extension": ".py",
   "mimetype": "text/x-python",
   "name": "python",
   "nbconvert_exporter": "python",
   "pygments_lexer": "ipython3",
   "version": "3.10.16"
  }
 },
 "nbformat": 4,
 "nbformat_minor": 2
}
