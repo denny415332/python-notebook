{
 "cells": [
  {
   "cell_type": "code",
   "execution_count": null,
   "metadata": {},
   "outputs": [],
   "source": [
    "from seabreeze.spectrometers import Spectrometer"
   ]
  },
  {
   "cell_type": "code",
   "execution_count": null,
   "metadata": {},
   "outputs": [],
   "source": [
    "int_time_micros_1 = 5e6  # 5 秒\n",
    "int_time_micros_2 = 0.05e6  # 0.05 秒"
   ]
  },
  {
   "cell_type": "code",
   "execution_count": null,
   "metadata": {},
   "outputs": [],
   "source": [
    "# 與光譜儀連線\n",
    "spec = Spectrometer.from_first_available()"
   ]
  },
  {
   "cell_type": "code",
   "execution_count": null,
   "metadata": {},
   "outputs": [
    {
     "name": "stdout",
     "output_type": "stream",
     "text": [
      "54563\n",
      "54240\n",
      "54373\n"
     ]
    }
   ],
   "source": [
    "# 設定積分時間 1\n",
    "spec.integration_time_micros(int_time_micros_1)\n",
    "\n",
    "# 抓取 4 次光譜\n",
    "_, intensities = spec.spectrum(correct_nonlinearity=True)\n",
    "print(int(max(intensities)))\n",
    "_, intensities = spec.spectrum(correct_nonlinearity=True)\n",
    "print(int(max(intensities)))\n",
    "_, intensities = spec.spectrum(correct_nonlinearity=True)\n",
    "print(int(max(intensities)))\n",
    "_, intensities = spec.spectrum(correct_nonlinearity=True)\n",
    "print(int(max(intensities)))"
   ]
  },
  {
   "cell_type": "code",
   "execution_count": null,
   "metadata": {},
   "outputs": [
    {
     "name": "stdout",
     "output_type": "stream",
     "text": [
      "54563\n",
      "54240\n",
      "54373\n"
     ]
    }
   ],
   "source": [
    "# 設定積分時間 2\n",
    "spec.integration_time_micros(int_time_micros_2)\n",
    "\n",
    "# 抓取 4 次光譜\n",
    "_, intensities = spec.spectrum(correct_nonlinearity=True)\n",
    "print(int(max(intensities)))\n",
    "_, intensities = spec.spectrum(correct_nonlinearity=True)\n",
    "print(int(max(intensities)))\n",
    "_, intensities = spec.spectrum(correct_nonlinearity=True)\n",
    "print(int(max(intensities)))\n",
    "_, intensities = spec.spectrum(correct_nonlinearity=True)\n",
    "print(int(max(intensities)))"
   ]
  },
  {
   "cell_type": "code",
   "execution_count": null,
   "metadata": {},
   "outputs": [
    {
     "name": "stdout",
     "output_type": "stream",
     "text": [
      "54422\n",
      "1637\n",
      "1635\n",
      "1636\n"
     ]
    }
   ],
   "source": [
    "# 設定積分時間 1\n",
    "spec.integration_time_micros(int_time_micros_1)\n",
    "\n",
    "# 抓取 4 次光譜\n",
    "_, intensities = spec.spectrum(correct_nonlinearity=True)\n",
    "print(int(max(intensities)))\n",
    "_, intensities = spec.spectrum(correct_nonlinearity=True)\n",
    "print(int(max(intensities)))\n",
    "_, intensities = spec.spectrum(correct_nonlinearity=True)\n",
    "print(int(max(intensities)))\n",
    "_, intensities = spec.spectrum(correct_nonlinearity=True)\n",
    "print(int(max(intensities)))"
   ]
  },
  {
   "cell_type": "code",
   "execution_count": null,
   "metadata": {},
   "outputs": [
    {
     "name": "stdout",
     "output_type": "stream",
     "text": [
      "54422\n",
      "1637\n",
      "1635\n",
      "1636\n"
     ]
    }
   ],
   "source": [
    "# 設定積分時間 2\n",
    "spec.integration_time_micros(int_time_micros_2)\n",
    "\n",
    "# 抓取 4 次光譜\n",
    "_, intensities = spec.spectrum(correct_nonlinearity=True)\n",
    "print(int(max(intensities)))\n",
    "_, intensities = spec.spectrum(correct_nonlinearity=True)\n",
    "print(int(max(intensities)))\n",
    "_, intensities = spec.spectrum(correct_nonlinearity=True)\n",
    "print(int(max(intensities)))\n",
    "_, intensities = spec.spectrum(correct_nonlinearity=True)\n",
    "print(int(max(intensities)))"
   ]
  },
  {
   "cell_type": "code",
   "execution_count": null,
   "metadata": {},
   "outputs": [],
   "source": [
    "# 關閉連線\n",
    "spec.close()"
   ]
  }
 ],
 "metadata": {
  "kernelspec": {
   "display_name": "venv",
   "language": "python",
   "name": "python3"
  },
  "language_info": {
   "codemirror_mode": {
    "name": "ipython",
    "version": 3
   },
   "file_extension": ".py",
   "mimetype": "text/x-python",
   "name": "python",
   "nbconvert_exporter": "python",
   "pygments_lexer": "ipython3",
   "version": "3.10.15"
  }
 },
 "nbformat": 4,
 "nbformat_minor": 2
}
