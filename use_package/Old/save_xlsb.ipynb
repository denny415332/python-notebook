{
 "cells": [
  {
   "cell_type": "code",
   "execution_count": 1,
   "metadata": {},
   "outputs": [],
   "source": [
    "import pandas as pd\n",
    "import xlwings as xw"
   ]
  },
  {
   "cell_type": "code",
   "execution_count": 2,
   "metadata": {},
   "outputs": [],
   "source": [
    "# 建立範例 DataFrame\n",
    "data = {\n",
    "    \"Name\": [\"Alice\", \"Bob\", \"Charlie\"],\n",
    "    \"Age\": [25, 30, 35],\n",
    "    \"City\": [\"New York\", \"Los Angeles\", \"Chicago\"],\n",
    "}\n",
    "df = pd.DataFrame(data)"
   ]
  },
  {
   "cell_type": "code",
   "execution_count": 3,
   "metadata": {},
   "outputs": [],
   "source": [
    "# from contextlib import contextmanager\n",
    "\n",
    "\n",
    "# @contextmanager\n",
    "# def read_xlsb(file_path: str):\n",
    "\n"
   ]
  },
  {
   "cell_type": "code",
   "execution_count": 4,
   "metadata": {},
   "outputs": [],
   "source": [
    "def save_as_xlsb_1(file_path: str):\n",
    "    # 啟動 Excel 應用程式\n",
    "    app = xw.App(visible=False)\n",
    "    try:\n",
    "        wb = app.books.add()\n",
    "\n",
    "        ## 新增第一個工作表\n",
    "        sheet = wb.sheets.add(name=\"Sheet1\", after=wb.sheets[0])\n",
    "        # 將 DataFrame 資料寫入 Excel\n",
    "        sheet.range(\"A1\").value = [df.columns.tolist()] + df.values.tolist()\n",
    "        # print(f\"sheet.range('A1').value: {sheet.range('A1').value}\")\n",
    "        # print(f\"df.columns.tolist(): {df.columns.tolist()}\")\n",
    "        # print(f\"df.values.tolist(): {df.values.tolist()}\")\n",
    "        # print(f\"[df.columns.tolist()] + df.values.tolist(): {[df.columns.tolist()] + df.values.tolist()}\")\n",
    "\n",
    "        ## 新增第二個工作表\n",
    "        sheet = wb.sheets.add(name=\"Sheet2\", after=wb.sheets[1])\n",
    "        sheet.range(\"A1\").value = [df.columns.tolist()] + df.values.tolist()\n",
    "\n",
    "        # 刪除預設的 Sheet\n",
    "        sheet_defalt: xw.Sheet = wb.sheets[0]\n",
    "        sheet_defalt.delete()\n",
    "\n",
    "        print(wb.sheets)\n",
    "\n",
    "        # 儲存為 xlsb 格式\n",
    "        wb.save(file_path)\n",
    "        print(f\"檔案已儲存為 {file_path}\")\n",
    "    finally:\n",
    "        # 關閉 Excel 應用程式\n",
    "        wb.close()\n",
    "        app.quit()"
   ]
  },
  {
   "cell_type": "code",
   "execution_count": 14,
   "metadata": {},
   "outputs": [],
   "source": [
    "# 儲存為 xlsb 檔案的函式\n",
    "def save_as_xlsb( file_path: str):\n",
    "    with xw.App(visible=False) as app:\n",
    "        with app.books.add() as wb:\n",
    "            sheet = wb.sheets.add(name=\"Sheet1\", after=wb.sheets[0])\n",
    "            sheet.range(\"A1\").value = [df.columns.tolist()] + df.values.tolist()\n",
    "\n",
    "            sheet = wb.sheets.add(name=\"Sheet2\", after=wb.sheets[1])\n",
    "            sheet.range(\"A1\").value = [df.columns.tolist()] + df.values.tolist()\n",
    "\n",
    "            sheet_defalt: xw.Sheet = wb.sheets[0]\n",
    "            sheet_defalt.delete()\n",
    "\n",
    "            print(wb.sheets)\n",
    "\n",
    "            # 儲存為 xlsb 格式\n",
    "            wb.save(file_path)\n",
    "            print(f\"檔案已儲存為 {file_path}\")\n"
   ]
  },
  {
   "cell_type": "code",
   "execution_count": 15,
   "metadata": {},
   "outputs": [
    {
     "name": "stdout",
     "output_type": "stream",
     "text": [
      "Sheets([<Sheet [活頁簿2]Sheet1>, <Sheet [活頁簿2]Sheet2>])\n",
      "檔案已儲存為 test2.xlsb\n"
     ]
    }
   ],
   "source": [
    "save_as_xlsb(\"test2.xlsb\")"
   ]
  }
 ],
 "metadata": {
  "kernelspec": {
   "display_name": "Python 3",
   "language": "python",
   "name": "python3"
  },
  "language_info": {
   "codemirror_mode": {
    "name": "ipython",
    "version": 3
   },
   "file_extension": ".py",
   "mimetype": "text/x-python",
   "name": "python",
   "nbconvert_exporter": "python",
   "pygments_lexer": "ipython3",
   "version": "3.10.16"
  }
 },
 "nbformat": 4,
 "nbformat_minor": 2
}
