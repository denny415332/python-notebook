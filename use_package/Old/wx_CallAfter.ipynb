{
 "cells": [
  {
   "cell_type": "code",
   "execution_count": 1,
   "metadata": {},
   "outputs": [],
   "source": [
    "import wx\n",
    "import threading\n",
    "import time\n",
    "\n",
    "\n",
    "class MyFrame(wx.Frame):\n",
    "    def __init__(self, *args, **kwargs):\n",
    "        super().__init__(*args, **kwargs)\n",
    "        self.panel = wx.Panel(self)\n",
    "        self.text_ctrl = wx.TextCtrl(self.panel, pos=(10, 10), size=(300, 30))\n",
    "        self.button = wx.Button(self.panel, label=\"Start Thread\", pos=(10, 50))\n",
    "\n",
    "        self.button.Bind(wx.EVT_BUTTON, self.on_start_thread)\n",
    "        self.Show()\n",
    "\n",
    "    def on_start_thread(self, event):\n",
    "        thread = threading.Thread(target=self.background_task)\n",
    "        thread.daemon = (\n",
    "            True  # Daemon thread will automatically exit when the main program ends\n",
    "        )\n",
    "        thread.start()\n",
    "\n",
    "    def background_task(self):\n",
    "        for i in range(5):\n",
    "            time.sleep(1)  # 模擬長時間運算\n",
    "            wx.CallAfter(self.update_text, f\"Count: {i + 1}\")\n",
    "\n",
    "    def update_text(self, text):\n",
    "        self.text_ctrl.SetValue(text)\n",
    "\n",
    "\n",
    "class MyApp(wx.App):\n",
    "    def OnInit(self):\n",
    "        self.frame = MyFrame(None, title=\"wx.CallAfter Example\", size=(350, 150))\n",
    "        self.frame.Show()\n",
    "        return True\n",
    "\n",
    "\n",
    "if __name__ == \"__main__\":\n",
    "    app = MyApp()\n",
    "    app.MainLoop()\n"
   ]
  }
 ],
 "metadata": {
  "kernelspec": {
   "display_name": "Python 3",
   "language": "python",
   "name": "python3"
  },
  "language_info": {
   "codemirror_mode": {
    "name": "ipython",
    "version": 3
   },
   "file_extension": ".py",
   "mimetype": "text/x-python",
   "name": "python",
   "nbconvert_exporter": "python",
   "pygments_lexer": "ipython3",
   "version": "3.10.15"
  }
 },
 "nbformat": 4,
 "nbformat_minor": 2
}
