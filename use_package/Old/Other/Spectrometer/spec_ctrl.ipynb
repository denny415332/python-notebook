{
 "cells": [
  {
   "cell_type": "code",
   "execution_count": 6,
   "metadata": {},
   "outputs": [],
   "source": [
    "from seabreeze.spectrometers import Spectrometer\n",
    "from time import sleep"
   ]
  },
  {
   "cell_type": "code",
   "execution_count": 7,
   "metadata": {},
   "outputs": [],
   "source": [
    "spec = Spectrometer.from_first_available()"
   ]
  },
  {
   "cell_type": "code",
   "execution_count": 8,
   "metadata": {},
   "outputs": [
    {
     "name": "stdout",
     "output_type": "stream",
     "text": [
      "54563\n",
      "54240\n",
      "54373\n"
     ]
    }
   ],
   "source": [
    "spec.integration_time_micros(20000000)\n",
    "sleep(20000000 / 1000000)\n",
    "_, intensities = spec.spectrum(correct_nonlinearity=True)\n",
    "print(int(max(intensities)))\n",
    "_, intensities = spec.spectrum(correct_nonlinearity=True)\n",
    "print(int(max(intensities)))\n",
    "_, intensities = spec.spectrum(correct_nonlinearity=True)\n",
    "print(int(max(intensities)))"
   ]
  },
  {
   "cell_type": "code",
   "execution_count": 9,
   "metadata": {},
   "outputs": [
    {
     "name": "stdout",
     "output_type": "stream",
     "text": [
      "54422\n",
      "1637\n",
      "1635\n",
      "1636\n"
     ]
    }
   ],
   "source": [
    "spec.integration_time_micros(10000)\n",
    "sleep(10000 / 1000000)\n",
    "_, intensities = spec.spectrum(correct_nonlinearity=True)\n",
    "print(int(max(intensities)))\n",
    "_, intensities = spec.spectrum(correct_nonlinearity=True)\n",
    "print(int(max(intensities)))\n",
    "_, intensities = spec.spectrum(correct_nonlinearity=True)\n",
    "print(int(max(intensities)))\n",
    "_, intensities = spec.spectrum(correct_nonlinearity=True)\n",
    "print(int(max(intensities)))"
   ]
  },
  {
   "cell_type": "code",
   "execution_count": 10,
   "metadata": {},
   "outputs": [
    {
     "name": "stdout",
     "output_type": "stream",
     "text": [
      "54486\n",
      "54538\n",
      "54430\n"
     ]
    }
   ],
   "source": [
    "spec.integration_time_micros(20000000)\n",
    "sleep(20000000 / 1000000)\n",
    "_, intensities = spec.spectrum(correct_nonlinearity=True)\n",
    "print(int(max(intensities)))\n",
    "_, intensities = spec.spectrum(correct_nonlinearity=True)\n",
    "print(int(max(intensities)))\n",
    "_, intensities = spec.spectrum(correct_nonlinearity=True)\n",
    "print(int(max(intensities)))"
   ]
  },
  {
   "cell_type": "code",
   "execution_count": 11,
   "metadata": {},
   "outputs": [
    {
     "name": "stdout",
     "output_type": "stream",
     "text": [
      "54365\n",
      "1635\n",
      "1637\n",
      "1638\n"
     ]
    }
   ],
   "source": [
    "spec.integration_time_micros(10000)\n",
    "sleep(10000 / 1000000)\n",
    "_, intensities = spec.spectrum(correct_nonlinearity=True)\n",
    "print(int(max(intensities)))\n",
    "_, intensities = spec.spectrum(correct_nonlinearity=True)\n",
    "print(int(max(intensities)))\n",
    "_, intensities = spec.spectrum(correct_nonlinearity=True)\n",
    "print(int(max(intensities)))\n",
    "_, intensities = spec.spectrum(correct_nonlinearity=True)\n",
    "print(int(max(intensities)))"
   ]
  },
  {
   "cell_type": "code",
   "execution_count": 12,
   "metadata": {},
   "outputs": [],
   "source": [
    "spec.close()"
   ]
  }
 ],
 "metadata": {
  "kernelspec": {
   "display_name": "Python 3",
   "language": "python",
   "name": "python3"
  },
  "language_info": {
   "codemirror_mode": {
    "name": "ipython",
    "version": 3
   },
   "file_extension": ".py",
   "mimetype": "text/x-python",
   "name": "python",
   "nbconvert_exporter": "python",
   "pygments_lexer": "ipython3",
   "version": "3.10.15"
  }
 },
 "nbformat": 4,
 "nbformat_minor": 2
}
