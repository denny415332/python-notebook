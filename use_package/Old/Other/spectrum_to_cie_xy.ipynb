{
 "cells": [
  {
   "cell_type": "code",
   "execution_count": 14,
   "metadata": {},
   "outputs": [],
   "source": [
    "import numpy as np\n",
    "import pandas as pd\n",
    "from scipy.interpolate import interp1d"
   ]
  },
  {
   "cell_type": "code",
   "execution_count": 2,
   "metadata": {},
   "outputs": [],
   "source": [
    "SPECTRUM_FILE_PATH = r\"D:\\kexian.kuo\\workspace\\projects\\1. YL-13 Gen2 專案\\python\\main\\lib_from_customer\\output (1) - 複製\\25_blue_150_data.xlsx\""
   ]
  },
  {
   "cell_type": "code",
   "execution_count": 12,
   "metadata": {},
   "outputs": [
    {
     "data": {
      "text/plain": [
       "array(['校正前光譜強度', '校正後光譜波長', '校正後光譜強度', '亮度', '色座標', '波長'], dtype=object)"
      ]
     },
     "execution_count": 12,
     "metadata": {},
     "output_type": "execute_result"
    }
   ],
   "source": [
    "df = pd.read_excel(SPECTRUM_FILE_PATH)\n",
    "df.to_numpy()[:, 0]"
   ]
  },
  {
   "cell_type": "code",
   "execution_count": 13,
   "metadata": {},
   "outputs": [],
   "source": [
    "wavelengths = df.to_numpy()[0, 1:]\n",
    "intensities = df.to_numpy()[0, 1:]"
   ]
  },
  {
   "cell_type": "code",
   "execution_count": null,
   "metadata": {},
   "outputs": [],
   "source": [
    "# 加載 CIE 色彩匹配函數\n",
    "cie_cmf = np.loadtxt(\"cie1931_cmf.csv\", delimiter=\",\", skiprows=1)  # 波長, x̅, ȳ, z̅\n",
    "cmf_wavelengths, x_bar, y_bar, z_bar = cie_cmf[:, 0], cie_cmf[:, 1], cie_cmf[:, 2], cie_cmf[:, 3]\n",
    "\n",
    "# 插值強度數據\n",
    "interp_func = interp1d(wavelengths, intensities, kind='linear', bounds_error=False, fill_value=0)\n",
    "interp_intensities = interp_func(cmf_wavelengths)\n",
    "\n",
    "# 計算三刺激值\n",
    "k = 100 / np.trapezoid(interp_intensities * y_bar, cmf_wavelengths)\n",
    "X = k * np.trapezoid(interp_intensities * x_bar, cmf_wavelengths)\n",
    "Y = k * np.trapezoid(interp_intensities * y_bar, cmf_wavelengths)\n",
    "Z = k * np.trapezoid(interp_intensities * z_bar, cmf_wavelengths)\n",
    "\n",
    "# 計算 CIE 1931 色座標\n",
    "if X + Y + Z != 0:\n",
    "    x = X / (X + Y + Z)\n",
    "    y = Y / (X + Y + Z)\n",
    "else:\n",
    "    x = y = 0\n",
    "\n",
    "# 輸出結果\n",
    "print(f\"CIE 1931 色座標: x={x:.4f}, y={y:.4f}, 亮度 Y={Y:.2f}\")"
   ]
  }
 ],
 "metadata": {
  "kernelspec": {
   "display_name": "Python 3",
   "language": "python",
   "name": "python3"
  },
  "language_info": {
   "codemirror_mode": {
    "name": "ipython",
    "version": 3
   },
   "file_extension": ".py",
   "mimetype": "text/x-python",
   "name": "python",
   "nbconvert_exporter": "python",
   "pygments_lexer": "ipython3",
   "version": "3.10.15"
  }
 },
 "nbformat": 4,
 "nbformat_minor": 2
}
