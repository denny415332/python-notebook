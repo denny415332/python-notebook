{
 "cells": [
  {
   "cell_type": "code",
   "execution_count": 1,
   "metadata": {},
   "outputs": [],
   "source": [
    "import pandas as pd\n",
    "\n",
    "# 建立一個範例 DataFrame\n",
    "data = {\"姓名\": [\"小明\", \"小華\", \"小美\"], \"年齡\": [20, 22, 21]}\n",
    "df = pd.DataFrame(data)\n",
    "\n",
    "# 將 DataFrame 儲存為 CSV 檔案\n",
    "# index=False 表示不儲存 DataFrame 的索引\n",
    "# encoding='utf-8-sig' 可以確保在 Excel 上開啟時不會有亂碼\n",
    "df.to_csv(\"output.csv\", index=False, encoding=\"utf-8-sig\")\n"
   ]
  }
 ],
 "metadata": {
  "kernelspec": {
   "display_name": "Python 3",
   "language": "python",
   "name": "python3"
  },
  "language_info": {
   "codemirror_mode": {
    "name": "ipython",
    "version": 3
   },
   "file_extension": ".py",
   "mimetype": "text/x-python",
   "name": "python",
   "nbconvert_exporter": "python",
   "pygments_lexer": "ipython3",
   "version": "3.13.2"
  }
 },
 "nbformat": 4,
 "nbformat_minor": 2
}
